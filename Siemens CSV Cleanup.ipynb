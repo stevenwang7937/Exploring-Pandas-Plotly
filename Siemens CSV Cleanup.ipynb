{
 "cells": [
  {
   "cell_type": "code",
   "execution_count": 2,
   "metadata": {},
   "outputs": [],
   "source": [
    "import pandas as pd\n",
    "import numpy as np\n",
    "import csv"
   ]
  },
  {
   "cell_type": "code",
   "execution_count": 15,
   "metadata": {},
   "outputs": [],
   "source": [
    "fileName = r'C:\\Users\\wangjuha\\Desktop\\Heat Pump Commissioning Review_01-10-20_15-16 - header'"
   ]
  },
  {
   "cell_type": "code",
   "execution_count": 16,
   "metadata": {},
   "outputs": [],
   "source": [
    "fileNameClean = r'C:\\Users\\renjesse\\University of Toronto\\Deepal Patel - Shared Folder - Co-op\\Working Folder\\Raw Data\\AC-16 Data Clean.csv'"
   ]
  },
  {
   "cell_type": "raw",
   "metadata": {},
   "source": [
    "The following code parses the column names from the CSV in question"
   ]
  },
  {
   "cell_type": "code",
   "execution_count": 22,
   "metadata": {},
   "outputs": [
    {
     "ename": "IndexError",
     "evalue": "list index out of range",
     "output_type": "error",
     "traceback": [
      "\u001b[1;31m---------------------------------------------------------------------------\u001b[0m",
      "\u001b[1;31mIndexError\u001b[0m                                Traceback (most recent call last)",
      "\u001b[1;32m<ipython-input-22-9564f75d6796>\u001b[0m in \u001b[0;36m<module>\u001b[1;34m\u001b[0m\n\u001b[0;32m     11\u001b[0m \u001b[1;33m\u001b[0m\u001b[0m\n\u001b[0;32m     12\u001b[0m \u001b[1;32mwhile\u001b[0m \u001b[0mrawCSV\u001b[0m\u001b[1;33m[\u001b[0m\u001b[0mi\u001b[0m\u001b[1;33m]\u001b[0m\u001b[1;33m[\u001b[0m\u001b[1;36m0\u001b[0m\u001b[1;33m]\u001b[0m \u001b[1;33m!=\u001b[0m \u001b[1;34m\"Time Interval:\"\u001b[0m\u001b[1;33m:\u001b[0m\u001b[1;33m\u001b[0m\u001b[1;33m\u001b[0m\u001b[0m\n\u001b[1;32m---> 13\u001b[1;33m     \u001b[0mpointsList\u001b[0m\u001b[1;33m[\u001b[0m\u001b[0mrawCSV\u001b[0m\u001b[1;33m[\u001b[0m\u001b[0mi\u001b[0m\u001b[1;33m]\u001b[0m\u001b[1;33m[\u001b[0m\u001b[1;36m0\u001b[0m\u001b[1;33m]\u001b[0m\u001b[1;33m.\u001b[0m\u001b[0mtranslate\u001b[0m\u001b[1;33m(\u001b[0m\u001b[1;32mNone\u001b[0m\u001b[1;33m,\u001b[0m\u001b[1;34m':'\u001b[0m\u001b[1;33m)\u001b[0m\u001b[1;33m]\u001b[0m \u001b[1;33m=\u001b[0m \u001b[0mrawCSV\u001b[0m\u001b[1;33m[\u001b[0m\u001b[0mi\u001b[0m\u001b[1;33m]\u001b[0m\u001b[1;33m[\u001b[0m\u001b[1;36m1\u001b[0m\u001b[1;33m]\u001b[0m\u001b[1;33m\u001b[0m\u001b[1;33m\u001b[0m\u001b[0m\n\u001b[0m\u001b[0;32m     14\u001b[0m     \u001b[0mi\u001b[0m \u001b[1;33m+=\u001b[0m \u001b[1;36m1\u001b[0m\u001b[1;33m\u001b[0m\u001b[1;33m\u001b[0m\u001b[0m\n\u001b[0;32m     15\u001b[0m \u001b[1;33m\u001b[0m\u001b[0m\n",
      "\u001b[1;31mIndexError\u001b[0m: list index out of range"
     ]
    }
   ],
   "source": [
    "rawCSV = []\n",
    "\n",
    "with open(fileName, 'rt') as f:\n",
    "    data = csv.reader(f, delimiter=',')\n",
    "    \n",
    "    for row in data:\n",
    "        rawCSV.append(row)\n",
    "    \n",
    "pointsList = {}\n",
    "i = 1\n",
    "\n",
    "while rawCSV[i][0] != \"Time Interval:\":\n",
    "    pointsList[rawCSV[i][0].translate(None,':')] = rawCSV[i][1]\n",
    "    i += 1\n",
    "\n",
    "del rawCSV[0:i+4]\n",
    "del rawCSV[-1]\n"
   ]
  },
  {
   "cell_type": "raw",
   "metadata": {},
   "source": [
    "map each point to its name in the header row"
   ]
  },
  {
   "cell_type": "code",
   "execution_count": null,
   "metadata": {},
   "outputs": [],
   "source": [
    "header = rawCSV[0]\n",
    "header = map(lambda k: pointsList[k],header[2:])\n",
    "header.insert(0,\"DateTime\")"
   ]
  },
  {
   "cell_type": "raw",
   "metadata": {},
   "source": [
    "Create a new output CSV"
   ]
  },
  {
   "cell_type": "code",
   "execution_count": 6,
   "metadata": {},
   "outputs": [],
   "source": [
    "outputCSV = []\n",
    "outputCSV.insert(0,header)\n",
    "outputRow = []\n",
    "\n",
    "for j in rawCSV[1:]:\n",
    "    \n",
    "    oldDate = j[0].split(\"/\")\n",
    "    month = oldDate[0].zfill(2)\n",
    "    day = oldDate[1].zfill(2)\n",
    "    year = oldDate[2]\n",
    "    \n",
    "    newDate = year + \"-\" + month + \"-\" + day\n",
    "    time = j[1]\n",
    "    \n",
    "    dateTime = newDate + \" \" + time\n",
    "       \n",
    "    \n",
    "    outputRow = j[2:]\n",
    "    outputRow[:0] = [dateTime]\n",
    "    outputCSV.append(outputRow)"
   ]
  },
  {
   "cell_type": "code",
   "execution_count": 7,
   "metadata": {},
   "outputs": [],
   "source": [
    "with open(fileNameClean, 'wb') as g:\n",
    "    outData = csv.writer(g, delimiter='\\t')\n",
    "    \n",
    "    for rowOut in outputCSV:\n",
    "        outData.writerow(rowOut)"
   ]
  }
 ],
 "metadata": {
  "kernelspec": {
   "display_name": "Python 3",
   "language": "python",
   "name": "python3"
  },
  "language_info": {
   "codemirror_mode": {
    "name": "ipython",
    "version": 3
   },
   "file_extension": ".py",
   "mimetype": "text/x-python",
   "name": "python",
   "nbconvert_exporter": "python",
   "pygments_lexer": "ipython3",
   "version": "3.7.4"
  }
 },
 "nbformat": 4,
 "nbformat_minor": 1
}
