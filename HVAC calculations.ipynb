{
 "cells": [
  {
   "cell_type": "code",
   "execution_count": 1,
   "metadata": {},
   "outputs": [],
   "source": [
    "import psychrolib as psy\n",
    "psy.SetUnitSystem(psy.IP)\n",
    "import pandas as pd\n",
    "import numpy as np"
   ]
  },
  {
   "cell_type": "code",
   "execution_count": 47,
   "metadata": {},
   "outputs": [],
   "source": [
    "#file with data\n",
    "fileName = r\"C:\\Users\\renjesse\\University of Toronto\\Deepal Patel - Shared Folder - Co-op\\Working Folder\\Data Analysis\\CWEC\\2018 Comparison\\AC-7 2018 data.csv\""
   ]
  },
  {
   "cell_type": "code",
   "execution_count": 35,
   "metadata": {},
   "outputs": [],
   "source": [
    "#file being created\n",
    "newFileName = r\"C:\\Users\\renjesse\\University of Toronto\\Deepal Patel - Shared Folder - Co-op\\Working Folder\\Data Analysis\\CWEC\\2018 Comparison\\Calculated AC-17B 2018 data.csv\""
   ]
  },
  {
   "cell_type": "code",
   "execution_count": 50,
   "metadata": {},
   "outputs": [],
   "source": [
    "#converts csv file to dataframe, if you receive a UnicodeDecodeError concerning the utf-8 codec, open the csv file in \n",
    "#notepad, press 'Save As' and then save it with UTF-8 encoding\n",
    "df = pd.read_csv(fileName)"
   ]
  },
  {
   "cell_type": "code",
   "execution_count": 37,
   "metadata": {},
   "outputs": [],
   "source": [
    "airFlow = list(df[\"Total Air Flow Proportional to Power(cfm)\"]) #enter name of column with airflow"
   ]
  },
  {
   "cell_type": "code",
   "execution_count": 38,
   "metadata": {},
   "outputs": [],
   "source": [
    "airTempBeingCooled = list(df[\" OutsideAirTemp (°F)\"]) #enter name of column with temperature that is being cooled"
   ]
  },
  {
   "cell_type": "code",
   "execution_count": 52,
   "metadata": {},
   "outputs": [],
   "source": [
    "enteringRH= list(df[\"MAH\"]) #enter name of column with RH of mixed air "
   ]
  },
  {
   "cell_type": "code",
   "execution_count": 39,
   "metadata": {},
   "outputs": [],
   "source": [
    "defaultRH = []\n",
    "for i in range(len(airFlow)): #default RH is 100, assign it to supplyRH is supplyRH is always 100\n",
    "    defaultRH.append(100) \n",
    "supplyRH = defaultRH #if SupplyRH is not always 100, make supplyRH equal to list(df[\"columnname\"]), where column name is the name of the column with supplyRH"
   ]
  },
  {
   "cell_type": "code",
   "execution_count": 40,
   "metadata": {},
   "outputs": [],
   "source": [
    "supplyTemp = list(df[\"AC17 SupplyAirTemp (°F)\"]) #enter name of column with supply temperature"
   ]
  },
  {
   "cell_type": "code",
   "execution_count": 41,
   "metadata": {},
   "outputs": [],
   "source": [
    "OAH = list(df[\"DewPointTemp (°F)\"]) #enter name of column with OA RH"
   ]
  },
  {
   "cell_type": "code",
   "execution_count": 35,
   "metadata": {},
   "outputs": [],
   "source": [
    "RAH = list(df[\".RAH\"]) #enter name of column with RA RH"
   ]
  },
  {
   "cell_type": "code",
   "execution_count": 16,
   "metadata": {},
   "outputs": [],
   "source": [
    "TDewPoint = list(df[\"Dew Point(?F)\"]) #enter name of column with Dewpoint Temperature"
   ]
  },
  {
   "cell_type": "code",
   "execution_count": 42,
   "metadata": {},
   "outputs": [],
   "source": [
    "OAT = list(df[\" OutsideAirTemp (°F)\"]) #enter name of column with OAT"
   ]
  },
  {
   "cell_type": "code",
   "execution_count": 38,
   "metadata": {},
   "outputs": [],
   "source": [
    "RAT = list(df[\"RAT (?F) \"]) #enter name of column with RAT"
   ]
  },
  {
   "cell_type": "code",
   "execution_count": 39,
   "metadata": {},
   "outputs": [],
   "source": [
    "percentRA = list(df[\"RA%\"]) #enter name of column with percent of MA that is RA\n",
    "percentOA = list(df[\"OA%\"]) #enter name of column with percent of MA that is OA"
   ]
  },
  {
   "cell_type": "code",
   "execution_count": 17,
   "metadata": {},
   "outputs": [],
   "source": [
    "OAEnthalpy = [] #run this line if calculated for OA enthalpy"
   ]
  },
  {
   "cell_type": "code",
   "execution_count": 40,
   "metadata": {},
   "outputs": [],
   "source": [
    "MAH = [] #run this line if calculated for MA RH"
   ]
  },
  {
   "cell_type": "code",
   "execution_count": 43,
   "metadata": {},
   "outputs": [],
   "source": [
    "coolingLoad = [] #run this line if calculated for cooling loads"
   ]
  },
  {
   "cell_type": "code",
   "execution_count": 58,
   "metadata": {},
   "outputs": [],
   "source": [
    "#Get Cooling Load from mixed air and MAH\n",
    "\n",
    "#runs through each line in file\n",
    "for i in range(len(airFlow)):\n",
    "    #checks if RH of current line is valid and if the supplyTemp is cooler than the entering Temp\n",
    "    if enteringRH[i] != 0 and airTempBeingCooled[i] > supplyTemp[i]: \n",
    "        #checks if the enthalpy of the entering air is greater than the enthalpy of the supply air\n",
    "        if psy.GetMoistAirEnthalpy(airTempBeingCooled[i],psy.GetHumRatioFromRelHum(airTempBeingCooled[i],enteringRH[i]/100,14.7))-psy.GetMoistAirEnthalpy(supplyTemp[i],psy.GetHumRatioFromRelHum(supplyTemp[i],supplyRH[i]/100,14.7)) > 0: \n",
    "            coolingLoad.append(4.5*airFlow[i]*(psy.GetMoistAirEnthalpy(airTempBeingCooled[i],psy.GetHumRatioFromRelHum(airTempBeingCooled[i],enteringRH[i]/100,14.7))-psy.GetMoistAirEnthalpy(supplyTemp[i],psy.GetHumRatioFromRelHum(supplyTemp[i],supplyRH[i]/100,14.7)))/1000)\n",
    "        else:\n",
    "            #appends only the sensible cooling load if the enthalpy of the entering air is less than the enthalpy of the supply air\n",
    "            coolingLoad.append(1.1*airFlow[i]*(airTempBeingCooled[i]-supplyTemp[i])/1000)\n",
    "    else:\n",
    "        #appends a blank space if either the RH or entering temperature are not valid\n",
    "        coolingLoad.append(\"\")"
   ]
  },
  {
   "cell_type": "code",
   "execution_count": 20,
   "metadata": {},
   "outputs": [],
   "source": [
    "#Get Cooling Load from mixed air and OA% and RA%\n",
    "for i in range(len(airFlow)):\n",
    "    if OAH[i] != 0 and airTempBeingCooled[i] > supplyTemp[i]:\n",
    "        if psy.GetMoistAirEnthalpy(airTempBeingCooled[i],psy.GetHumRatioFromRelHum(OAT[i],OAH[i]/100,14.7)*percentOA[i]/100+psy.GetHumRatioFromRelHum(RAT[i],RAH[i]/100,14.7)*percentRA[i]/100)-psy.GetMoistAirEnthalpy(supplyTemp[i],psy.GetHumRatioFromRelHum(supplyTemp[i],supplyRH[i]/100,14.7)) > 0:\n",
    "            coolingLoad.append(4.5*airFlow[i]*(psy.GetMoistAirEnthalpy(airTempBeingCooled[i],psy.GetHumRatioFromRelHum(OAT[i],OAH[i]/100,14.7)*percentOA[i]/100+psy.GetHumRatioFromRelHum(RAT[i],RAH[i]/100,14.7)*percentRA[i]/100)-psy.GetMoistAirEnthalpy(supplyTemp[i],psy.GetHumRatioFromRelHum(supplyTemp[i],supplyRH[i]/100,14.7)))/1000)\n",
    "        else:\n",
    "            coolingLoad.append(1.1*airFlow[i]*(airTempBeingCooled[i]-supplyTemp[i])/1000)\n",
    "    else:\n",
    "        coolingLoad.append(\"\")"
   ]
  },
  {
   "cell_type": "code",
   "execution_count": 157,
   "metadata": {},
   "outputs": [],
   "source": [
    "#Get Cooling Load from TDewPoint and OA% and RA%\n",
    "for i in range(len(airFlow)):\n",
    "    if TDewPoint != \"\" and airTempBeingCooled[i] > supplyTemp[i]:\n",
    "        if psy.GetMoistAirEnthalpy(airTempBeingCooled[i],psy.GetHumRatioFromTDewPoint(TDewPoint[i],14.7)*percentOA[i]/100+psy.GetHumRatioFromRelHum(RAT[i],RAH[i]/100,14.7)*percentRA[i]/100)-psy.GetMoistAirEnthalpy(supplyTemp[i],psy.GetHumRatioFromRelHum(supplyTemp[i],supplyRH[i]/100,14.7)) > 0:\n",
    "            coolingLoad.append(4.5*airFlow[i]*(psy.GetMoistAirEnthalpy(airTempBeingCooled[i],psy.GetHumRatioFromTDewPoint(TDewPoint[i],14.7)*percentOA[i]/100+psy.GetHumRatioFromRelHum(RAT[i],RAH[i]/100,14.7)*percentRA[i]/100)-psy.GetMoistAirEnthalpy(supplyTemp[i],psy.GetHumRatioFromRelHum(supplyTemp[i],supplyRH[i]/100,14.7)))/1000)\n",
    "        else:\n",
    "            coolingLoad.append(1.1*airFlow[i]*(airTempBeingCooled[i]-supplyTemp[i])/1000)\n",
    "    else:\n",
    "        coolingLoad.append(\"\")"
   ]
  },
  {
   "cell_type": "code",
   "execution_count": 44,
   "metadata": {},
   "outputs": [],
   "source": [
    "#Get Cooling Load from Relative Humidity and Outside Air\n",
    "for i in range(len(airFlow)):\n",
    "    if OAH != 0 and airTempBeingCooled[i] > supplyTemp[i]:\n",
    "        if psy.GetMoistAirEnthalpy(airTempBeingCooled[i],psy.GetHumRatioFromRelHum(OAT[i],OAH[i]/100,14.7))-psy.GetMoistAirEnthalpy(supplyTemp[i],psy.GetHumRatioFromRelHum(supplyTemp[i],supplyRH[i]/100,14.7)) > 0:\n",
    "            coolingLoad.append(4.5*airFlow[i]*(psy.GetMoistAirEnthalpy(airTempBeingCooled[i],psy.GetHumRatioFromRelHum(OAT[i],OAH[i]/100,14.7))-psy.GetMoistAirEnthalpy(supplyTemp[i],psy.GetHumRatioFromRelHum(supplyTemp[i],supplyRH[i]/100,14.7)))/1000)\n",
    "        else:\n",
    "            coolingLoad.append(1.1*airFlow[i]*(airTempBeingCooled[i]-supplyTemp[i])/1000)\n",
    "    else:\n",
    "        coolingLoad.append(\"\")"
   ]
  },
  {
   "cell_type": "code",
   "execution_count": 230,
   "metadata": {},
   "outputs": [],
   "source": [
    "#Get Cooling Load from TDewPoint and Outside Air\n",
    "for i in range(len(airFlow)):\n",
    "    if TDewPoint[i] != \"\" and airTempBeingCooled[i] > supplyTemp[i]:\n",
    "        if psy.GetMoistAirEnthalpy(airTempBeingCooled[i],psy.GetHumRatioFromTDewPoint(TDewPoint[i],14.7))-psy.GetMoistAirEnthalpy(supplyTemp[i],psy.GetHumRatioFromRelHum(supplyTemp[i],supplyRH[i]/100,14.7)) > 0:\n",
    "            coolingLoad.append(4.5*airFlow[i]*(psy.GetMoistAirEnthalpy(airTempBeingCooled[i],psy.GetHumRatioFromTDewPoint(TDewPoint[i],14.7))-psy.GetMoistAirEnthalpy(supplyTemp[i],psy.GetHumRatioFromRelHum(supplyTemp[i],supplyRH[i]/100,14.7)))/1000)\n",
    "        else:\n",
    "            coolingLoad.append(1.1*airFlow[i]*(airTempBeingCooled[i]-supplyTemp[i])/1000)\n",
    "    else:\n",
    "        coolingLoad.append(\"\")"
   ]
  },
  {
   "cell_type": "code",
   "execution_count": 56,
   "metadata": {},
   "outputs": [],
   "source": [
    "#Get MAH from TDewPoint\n",
    "for i in range(len(airFlow)):\n",
    "    MAH.append(psy.GetRelHumFromHumRatio(airTempBeingCooled[i],psy.GetHumRatioFromTDewPoint(TDewPoint[i],14.7)*percentOA[i]/100+psy.GetHumRatioFromRelHum(RAT[i],RAH[i]/100,14.7)*percentRA[i]/100,14.7)*100)\n"
   ]
  },
  {
   "cell_type": "code",
   "execution_count": 41,
   "metadata": {},
   "outputs": [],
   "source": [
    "#Get MAH from Relative Humidity\n",
    "\n",
    "for i in range(len(airFlow)):\n",
    "    if OAH[i] != 0:\n",
    "        if psy.GetRelHumFromHumRatio(airTempBeingCooled[i],psy.GetHumRatioFromRelHum(OAT[i],OAH[i]/100,14.7)*percentOA[i]/100+psy.GetHumRatioFromRelHum(RAT[i],RAH[i]/100,14.7)*percentRA[i]/100,14.7)*100 <= 100\n",
    "            MAH.append(psy.GetRelHumFromHumRatio(airTempBeingCooled[i],psy.GetHumRatioFromRelHum(OAT[i],OAH[i]/100,14.7)*percentOA[i]/100+psy.GetHumRatioFromRelHum(RAT[i],RAH[i]/100,14.7)*percentRA[i]/100,14.7)*100)\n",
    "        else:\n",
    "            Mah.append(100)\n",
    "    else:\n",
    "        MAH.append(\"\")"
   ]
  },
  {
   "cell_type": "code",
   "execution_count": 19,
   "metadata": {},
   "outputs": [],
   "source": [
    "#Get OA Enthalpy from OAT and RH%\n",
    "for i in range(len(airFlow)):\n",
    "    if OAH[i] != 0:\n",
    "        OAEnthalpy.append(psy.GetMoistAirEnthalpy(OAT[i],psy.GetHumRatioFromRelHum(OAT[i],OAH[i]/100,14.7)))\n",
    "    else:\n",
    "        OAEnthalpy.append(\"\")"
   ]
  },
  {
   "cell_type": "code",
   "execution_count": null,
   "metadata": {},
   "outputs": [],
   "source": [
    "#Get OA Enthalpy from OAT and TDewPoint%\n",
    "for i in range(len(airFlow)):\n",
    "    OAEnthalpy.append(psy.GetMoistAirEnthalpy(OAT[i],psy.GetHumRatioFromTDewPoint(TDewPoint[i]/100,14.7)))\n"
   ]
  },
  {
   "cell_type": "code",
   "execution_count": 45,
   "metadata": {},
   "outputs": [],
   "source": [
    "df2 = pd.DataFrame(coolingLoad) #enter list with calculated results in brackets"
   ]
  },
  {
   "cell_type": "code",
   "execution_count": 46,
   "metadata": {},
   "outputs": [],
   "source": [
    "df2.to_csv(newFileName,sep=\",\") #run to create csv with calculated results"
   ]
  },
  {
   "cell_type": "code",
   "execution_count": 139,
   "metadata": {},
   "outputs": [],
   "source": [
    "OAEnthalpy = [] #Get Outdoor Air Enthalpy\n",
    "for i in range(len(TDewPoint)):\n",
    "    if OAT[i] != '' and TDewPoint[i] != \"\": #checks if the current lines OAT and TDewPoint are not blank\n",
    "        OAEnthalpy.append(psy.GetMoistAirEnthalpy(OAT[i],psy.GetHumRatioFromTDewPoint(TDewPoint[i],14.7)))\n",
    "    else:\n",
    "        OAEnthalpy.append(\"\")           \n",
    "                          \n",
    "df3 = pd.DataFrame(OAEnthalpy)\n",
    "df3.to_csv(newFileName,sep=\",\")"
   ]
  },
  {
   "cell_type": "code",
   "execution_count": 205,
   "metadata": {},
   "outputs": [],
   "source": [
    "wetBulb = [] #Get Outdoor Wetbulb Temperature\n",
    "for i in range(len(airFlow)):\n",
    "    if OAT[i] != '':\n",
    "        wetBulb.append(psy.GetTWetBulbFromHumRatio(float(airTempBeingCooled[i]),psy.GetHumRatioFromRelHum(float(OAT[i]),float(OAH[i]) / 100,14.7),14.7))\n",
    "    else:\n",
    "        wetBulb.append(\"\")\n",
    "df3 = pd.DataFrame(wetBulb)\n",
    "df3.to_csv(newFile,sep=\",\")"
   ]
  },
  {
   "cell_type": "code",
   "execution_count": null,
   "metadata": {},
   "outputs": [],
   "source": []
  }
 ],
 "metadata": {
  "kernelspec": {
   "display_name": "Python 3",
   "language": "python",
   "name": "python3"
  },
  "language_info": {
   "codemirror_mode": {
    "name": "ipython",
    "version": 3
   },
   "file_extension": ".py",
   "mimetype": "text/x-python",
   "name": "python",
   "nbconvert_exporter": "python",
   "pygments_lexer": "ipython3",
   "version": "3.7.1"
  }
 },
 "nbformat": 4,
 "nbformat_minor": 2
}
