{
 "cells": [
  {
   "cell_type": "code",
   "execution_count": 1,
   "metadata": {},
   "outputs": [],
   "source": [
    "import pandas as pd\n",
    "import numpy as np\n",
    "import datetime as dt\n",
    "import csv"
   ]
  },
  {
   "cell_type": "code",
   "execution_count": 2,
   "metadata": {},
   "outputs": [],
   "source": [
    "#fileName = r'C:\\Users\\wangjuha\\Desktop\\Heat Pump Commissioning Review_01-10-20_15-16'"
   ]
  },
  {
   "cell_type": "code",
   "execution_count": 3,
   "metadata": {},
   "outputs": [],
   "source": [
    "fileName=r'C:\\Users\\wangjuha\\Desktop\\Heat Pump Commissioning Review_01-10-20_15-16 - safe'"
   ]
  },
  {
   "cell_type": "code",
   "execution_count": 4,
   "metadata": {},
   "outputs": [],
   "source": [
    "fileNameClean = fileName+' - clean.csv'"
   ]
  },
  {
   "cell_type": "code",
   "execution_count": 5,
   "metadata": {},
   "outputs": [
    {
     "data": {
      "text/plain": [
       "'C:\\\\Users\\\\wangjuha\\\\Desktop\\\\Heat Pump Commissioning Review_01-10-20_15-16 - safe - clean.csv'"
      ]
     },
     "execution_count": 5,
     "metadata": {},
     "output_type": "execute_result"
    }
   ],
   "source": [
    "fileNameClean"
   ]
  },
  {
   "cell_type": "code",
   "execution_count": 10,
   "metadata": {},
   "outputs": [],
   "source": [
    "temp_df=pd.read_csv(fileName,skiprows=100,sep='\\t')"
   ]
  },
  {
   "cell_type": "code",
   "execution_count": 11,
   "metadata": {},
   "outputs": [],
   "source": [
    "len_header=len(temp_df.columns)+3"
   ]
  },
  {
   "cell_type": "code",
   "execution_count": 12,
   "metadata": {},
   "outputs": [],
   "source": [
    "df = pd.read_csv(fileName,skiprows=len_header,sep='\\t', encoding=\"unicode_escape\")"
   ]
  },
  {
   "cell_type": "code",
   "execution_count": 13,
   "metadata": {},
   "outputs": [],
   "source": [
    "df_header=pd.read_csv(fileName,nrows=len_header-2,sep='\\t', encoding=\"unicode_escape\")"
   ]
  },
  {
   "cell_type": "code",
   "execution_count": 14,
   "metadata": {},
   "outputs": [],
   "source": [
    "def convert_SIEMENS(df2):\n",
    "    time_list=[]\n",
    "    date_list=[]\n",
    "    timestamp_list=[]\n",
    "    for i in range(len(df2)-1):\n",
    "        time_list.append(dt.datetime.strptime(df2.head(-1)['Time'][i],'%H:%M:%S').time())\n",
    "    for i in range(len(df2)-1):\n",
    "        date_list.append(dt.datetime.strptime(df2.head(-1)['<>Date'][i],'%m/%d/%Y'))\n",
    "    for j in range(len(date_list)):\n",
    "        timestamp_list.append(dt.datetime.combine(date_list[j],time_list[j]))\n",
    "    df21=df2.drop(columns=['<>Date', 'Time'])\n",
    "    df22=df21.head(-1)\n",
    "    df22.insert(loc=0, column='Timestamp', value=timestamp_list)\n",
    "    for i in range(len(df_header)-3):\n",
    "        df22.rename(columns={df_header.index[i][0][:-1]:df_header.index[i][1]},inplace=True)\n",
    "    return df22\n"
   ]
  },
  {
   "cell_type": "code",
   "execution_count": null,
   "metadata": {},
   "outputs": [],
   "source": []
  },
  {
   "cell_type": "code",
   "execution_count": 15,
   "metadata": {},
   "outputs": [],
   "source": [
    "def is_number(s):\n",
    "    \"\"\" Returns True is string is a number. \"\"\"\n",
    "    try:\n",
    "        float(s)\n",
    "        return True\n",
    "    except ValueError:\n",
    "        return False\n"
   ]
  },
  {
   "cell_type": "code",
   "execution_count": 16,
   "metadata": {},
   "outputs": [],
   "source": [
    "def modify(row_num,col_name):\n",
    "#replace the value of a cell with the average of its upper cell and its lower cell\n",
    "    if is_number(df.loc[row_num+1,col_name]) and is_number(df.loc[row_num-1,col_name]):\n",
    "        df.at[row_num,col_name]=(float(df.loc[row_num+1,col_name])+float(df.loc[row_num-1,col_name]))/2\n",
    "    else:\n",
    "        print('Missing data at row '+str(row_num)+' column: '+col_name)\n"
   ]
  },
  {
   "cell_type": "code",
   "execution_count": 17,
   "metadata": {},
   "outputs": [
    {
     "data": {
      "text/plain": [
       "'Point_1'"
      ]
     },
     "execution_count": 17,
     "metadata": {},
     "output_type": "execute_result"
    }
   ],
   "source": [
    "error_list=[]\n",
    "for n in range (1,21):\n",
    "    for i in range (len(df['Point_'+str(n)])):\n",
    "        if (is_number(df['Point_'+str(n)][i]) == False):\n",
    "            error_list.append([i,n])\n",
    "'Point_'+str(error_list[0][1])"
   ]
  },
  {
   "cell_type": "code",
   "execution_count": 18,
   "metadata": {},
   "outputs": [
    {
     "name": "stdout",
     "output_type": "stream",
     "text": [
      "Missing data at row 917 column: Point_1\n",
      "Missing data at row 918 column: Point_1\n",
      "Missing data at row 919 column: Point_1\n",
      "Missing data at row 920 column: Point_1\n",
      "Missing data at row 921 column: Point_1\n",
      "Missing data at row 922 column: Point_1\n",
      "Missing data at row 923 column: Point_1\n",
      "Missing data at row 917 column: Point_2\n",
      "Missing data at row 918 column: Point_2\n",
      "Missing data at row 919 column: Point_2\n",
      "Missing data at row 920 column: Point_2\n",
      "Missing data at row 921 column: Point_2\n",
      "Missing data at row 922 column: Point_2\n",
      "Missing data at row 923 column: Point_2\n",
      "Missing data at row 917 column: Point_3\n",
      "Missing data at row 918 column: Point_3\n",
      "Missing data at row 919 column: Point_3\n",
      "Missing data at row 920 column: Point_3\n",
      "Missing data at row 921 column: Point_3\n",
      "Missing data at row 922 column: Point_3\n",
      "Missing data at row 923 column: Point_3\n",
      "Missing data at row 917 column: Point_4\n",
      "Missing data at row 918 column: Point_4\n",
      "Missing data at row 919 column: Point_4\n",
      "Missing data at row 920 column: Point_4\n",
      "Missing data at row 921 column: Point_4\n",
      "Missing data at row 922 column: Point_4\n",
      "Missing data at row 923 column: Point_4\n",
      "Missing data at row 917 column: Point_5\n",
      "Missing data at row 918 column: Point_5\n",
      "Missing data at row 919 column: Point_5\n",
      "Missing data at row 920 column: Point_5\n",
      "Missing data at row 921 column: Point_5\n",
      "Missing data at row 922 column: Point_5\n",
      "Missing data at row 923 column: Point_5\n",
      "Missing data at row 917 column: Point_6\n",
      "Missing data at row 918 column: Point_6\n",
      "Missing data at row 919 column: Point_6\n",
      "Missing data at row 920 column: Point_6\n",
      "Missing data at row 921 column: Point_6\n",
      "Missing data at row 922 column: Point_6\n",
      "Missing data at row 923 column: Point_6\n",
      "Missing data at row 917 column: Point_9\n",
      "Missing data at row 918 column: Point_9\n",
      "Missing data at row 919 column: Point_9\n",
      "Missing data at row 920 column: Point_9\n",
      "Missing data at row 921 column: Point_9\n",
      "Missing data at row 922 column: Point_9\n",
      "Missing data at row 923 column: Point_9\n",
      "Missing data at row 917 column: Point_10\n",
      "Missing data at row 918 column: Point_10\n",
      "Missing data at row 919 column: Point_10\n",
      "Missing data at row 920 column: Point_10\n",
      "Missing data at row 921 column: Point_10\n",
      "Missing data at row 922 column: Point_10\n",
      "Missing data at row 923 column: Point_10\n",
      "Missing data at row 917 column: Point_11\n",
      "Missing data at row 918 column: Point_11\n",
      "Missing data at row 919 column: Point_11\n",
      "Missing data at row 920 column: Point_11\n",
      "Missing data at row 921 column: Point_11\n",
      "Missing data at row 922 column: Point_11\n",
      "Missing data at row 923 column: Point_11\n",
      "Missing data at row 917 column: Point_13\n",
      "Missing data at row 918 column: Point_13\n",
      "Missing data at row 919 column: Point_13\n",
      "Missing data at row 920 column: Point_13\n",
      "Missing data at row 921 column: Point_13\n",
      "Missing data at row 922 column: Point_13\n",
      "Missing data at row 923 column: Point_13\n",
      "Missing data at row 921 column: Point_15\n",
      "Missing data at row 922 column: Point_15\n",
      "Missing data at row 923 column: Point_15\n",
      "Missing data at row 920 column: Point_16\n",
      "Missing data at row 921 column: Point_16\n",
      "Missing data at row 922 column: Point_16\n",
      "Missing data at row 923 column: Point_16\n",
      "Missing data at row 498 column: Point_17\n",
      "Missing data at row 499 column: Point_17\n",
      "Missing data at row 500 column: Point_17\n",
      "Missing data at row 917 column: Point_17\n",
      "Missing data at row 918 column: Point_17\n",
      "Missing data at row 919 column: Point_17\n",
      "Missing data at row 920 column: Point_17\n",
      "Missing data at row 921 column: Point_17\n",
      "Missing data at row 922 column: Point_17\n",
      "Missing data at row 923 column: Point_17\n",
      "Missing data at row 917 column: Point_18\n",
      "Missing data at row 918 column: Point_18\n",
      "Missing data at row 919 column: Point_18\n",
      "Missing data at row 920 column: Point_18\n",
      "Missing data at row 921 column: Point_18\n",
      "Missing data at row 922 column: Point_18\n",
      "Missing data at row 923 column: Point_18\n",
      "Missing data at row 917 column: Point_19\n",
      "Missing data at row 918 column: Point_19\n",
      "Missing data at row 919 column: Point_19\n",
      "Missing data at row 920 column: Point_19\n",
      "Missing data at row 921 column: Point_19\n",
      "Missing data at row 922 column: Point_19\n",
      "Missing data at row 923 column: Point_19\n"
     ]
    }
   ],
   "source": [
    "def automodify():\n",
    "    for i in range(len(error_list)):\n",
    "        modify(error_list[i][0],'Point_'+str(error_list[i][1]))\n",
    "automodify()"
   ]
  },
  {
   "cell_type": "code",
   "execution_count": 19,
   "metadata": {},
   "outputs": [
    {
     "name": "stderr",
     "output_type": "stream",
     "text": [
      "C:\\Users\\wangjuha\\AppData\\Local\\Continuum\\anaconda3\\lib\\site-packages\\pandas\\core\\frame.py:4223: SettingWithCopyWarning: \n",
      "A value is trying to be set on a copy of a slice from a DataFrame\n",
      "\n",
      "See the caveats in the documentation: http://pandas.pydata.org/pandas-docs/stable/user_guide/indexing.html#returning-a-view-versus-a-copy\n",
      "  return super().rename(**kwargs)\n"
     ]
    }
   ],
   "source": [
    "df=convert_SIEMENS(df)"
   ]
  },
  {
   "cell_type": "code",
   "execution_count": 20,
   "metadata": {},
   "outputs": [
    {
     "data": {
      "text/html": [
       "<div>\n",
       "<style scoped>\n",
       "    .dataframe tbody tr th:only-of-type {\n",
       "        vertical-align: middle;\n",
       "    }\n",
       "\n",
       "    .dataframe tbody tr th {\n",
       "        vertical-align: top;\n",
       "    }\n",
       "\n",
       "    .dataframe thead th {\n",
       "        text-align: right;\n",
       "    }\n",
       "</style>\n",
       "<table border=\"1\" class=\"dataframe\">\n",
       "  <thead>\n",
       "    <tr style=\"text-align: right;\">\n",
       "      <th></th>\n",
       "      <th>Timestamp</th>\n",
       "      <th>SW.AC10.PHT</th>\n",
       "      <th>SW.AC10.PHV</th>\n",
       "      <th>SW.AC11.SAT1</th>\n",
       "      <th>SW.AC11.PHV</th>\n",
       "      <th>SW.AC11.RHV1</th>\n",
       "      <th>SW.AC11.RHV2</th>\n",
       "      <th>SW.AHU13.HD.HCT</th>\n",
       "      <th>SW.AHU13.CD.HCT</th>\n",
       "      <th>SW.AHU12.HD.HCT</th>\n",
       "      <th>...</th>\n",
       "      <th>SW.AHU13.CD.RHCT</th>\n",
       "      <th>SW.AHU12.CD.RHCT</th>\n",
       "      <th>SW.AHU12.CD.HCV</th>\n",
       "      <th>SW.AHU12.HD.HCV</th>\n",
       "      <th>SW.AHU13.CD.HCV</th>\n",
       "      <th>SW.AHU13.HD.HCV</th>\n",
       "      <th>SW.AHU12.CD.SAT</th>\n",
       "      <th>SW.AHU12.HD.SAT</th>\n",
       "      <th>SW.AHU13.CD.SAT</th>\n",
       "      <th>SW.AHU13.HD.SAT</th>\n",
       "    </tr>\n",
       "  </thead>\n",
       "  <tbody>\n",
       "    <tr>\n",
       "      <td>0</td>\n",
       "      <td>2020-01-01 00:00:00</td>\n",
       "      <td>56.70</td>\n",
       "      <td>22.65</td>\n",
       "      <td>79.99</td>\n",
       "      <td>99.20</td>\n",
       "      <td>30.66</td>\n",
       "      <td>0.00</td>\n",
       "      <td>78.15</td>\n",
       "      <td>55.22</td>\n",
       "      <td>77.25</td>\n",
       "      <td>...</td>\n",
       "      <td>59.32</td>\n",
       "      <td>57.63</td>\n",
       "      <td>33.16</td>\n",
       "      <td>27.27</td>\n",
       "      <td>25.00</td>\n",
       "      <td>30.64</td>\n",
       "      <td>60.30</td>\n",
       "      <td>79.77</td>\n",
       "      <td>60.08</td>\n",
       "      <td>80.06</td>\n",
       "    </tr>\n",
       "    <tr>\n",
       "      <td>1</td>\n",
       "      <td>2020-01-01 00:15:00</td>\n",
       "      <td>56.70</td>\n",
       "      <td>22.81</td>\n",
       "      <td>79.99</td>\n",
       "      <td>99.20</td>\n",
       "      <td>30.66</td>\n",
       "      <td>0.00</td>\n",
       "      <td>77.94</td>\n",
       "      <td>54.82</td>\n",
       "      <td>77.54</td>\n",
       "      <td>...</td>\n",
       "      <td>58.89</td>\n",
       "      <td>57.70</td>\n",
       "      <td>33.05</td>\n",
       "      <td>26.06</td>\n",
       "      <td>25.22</td>\n",
       "      <td>30.64</td>\n",
       "      <td>60.40</td>\n",
       "      <td>80.10</td>\n",
       "      <td>59.68</td>\n",
       "      <td>79.92</td>\n",
       "    </tr>\n",
       "    <tr>\n",
       "      <td>2</td>\n",
       "      <td>2020-01-01 00:30:00</td>\n",
       "      <td>52.81</td>\n",
       "      <td>22.71</td>\n",
       "      <td>80.13</td>\n",
       "      <td>99.20</td>\n",
       "      <td>30.66</td>\n",
       "      <td>0.00</td>\n",
       "      <td>78.04</td>\n",
       "      <td>55.00</td>\n",
       "      <td>77.50</td>\n",
       "      <td>...</td>\n",
       "      <td>59.22</td>\n",
       "      <td>57.38</td>\n",
       "      <td>34.09</td>\n",
       "      <td>27.22</td>\n",
       "      <td>26.13</td>\n",
       "      <td>31.70</td>\n",
       "      <td>60.04</td>\n",
       "      <td>79.99</td>\n",
       "      <td>60.01</td>\n",
       "      <td>79.92</td>\n",
       "    </tr>\n",
       "    <tr>\n",
       "      <td>3</td>\n",
       "      <td>2020-01-01 00:45:00</td>\n",
       "      <td>52.81</td>\n",
       "      <td>28.19</td>\n",
       "      <td>80.13</td>\n",
       "      <td>99.20</td>\n",
       "      <td>30.66</td>\n",
       "      <td>0.00</td>\n",
       "      <td>78.04</td>\n",
       "      <td>54.75</td>\n",
       "      <td>77.50</td>\n",
       "      <td>...</td>\n",
       "      <td>58.96</td>\n",
       "      <td>57.09</td>\n",
       "      <td>33.04</td>\n",
       "      <td>26.15</td>\n",
       "      <td>26.10</td>\n",
       "      <td>31.70</td>\n",
       "      <td>59.94</td>\n",
       "      <td>79.99</td>\n",
       "      <td>59.79</td>\n",
       "      <td>79.95</td>\n",
       "    </tr>\n",
       "    <tr>\n",
       "      <td>4</td>\n",
       "      <td>2020-01-01 01:00:00</td>\n",
       "      <td>54.57</td>\n",
       "      <td>27.96</td>\n",
       "      <td>80.31</td>\n",
       "      <td>99.20</td>\n",
       "      <td>30.66</td>\n",
       "      <td>0.00</td>\n",
       "      <td>78.08</td>\n",
       "      <td>55.47</td>\n",
       "      <td>77.47</td>\n",
       "      <td>...</td>\n",
       "      <td>59.29</td>\n",
       "      <td>57.02</td>\n",
       "      <td>34.09</td>\n",
       "      <td>27.19</td>\n",
       "      <td>27.04</td>\n",
       "      <td>31.63</td>\n",
       "      <td>59.79</td>\n",
       "      <td>79.95</td>\n",
       "      <td>59.94</td>\n",
       "      <td>80.06</td>\n",
       "    </tr>\n",
       "    <tr>\n",
       "      <td>...</td>\n",
       "      <td>...</td>\n",
       "      <td>...</td>\n",
       "      <td>...</td>\n",
       "      <td>...</td>\n",
       "      <td>...</td>\n",
       "      <td>...</td>\n",
       "      <td>...</td>\n",
       "      <td>...</td>\n",
       "      <td>...</td>\n",
       "      <td>...</td>\n",
       "      <td>...</td>\n",
       "      <td>...</td>\n",
       "      <td>...</td>\n",
       "      <td>...</td>\n",
       "      <td>...</td>\n",
       "      <td>...</td>\n",
       "      <td>...</td>\n",
       "      <td>...</td>\n",
       "      <td>...</td>\n",
       "      <td>...</td>\n",
       "      <td>...</td>\n",
       "    </tr>\n",
       "    <tr>\n",
       "      <td>919</td>\n",
       "      <td>2020-01-10 13:45:00</td>\n",
       "      <td>No Data</td>\n",
       "      <td>No Data</td>\n",
       "      <td>No Data</td>\n",
       "      <td>No Data</td>\n",
       "      <td>No Data</td>\n",
       "      <td>No Data</td>\n",
       "      <td>78.26</td>\n",
       "      <td>55.00</td>\n",
       "      <td>No Data</td>\n",
       "      <td>...</td>\n",
       "      <td>57.99</td>\n",
       "      <td>No Data</td>\n",
       "      <td>22.45</td>\n",
       "      <td>20.43</td>\n",
       "      <td>20.86</td>\n",
       "      <td>No Data</td>\n",
       "      <td>No Data</td>\n",
       "      <td>No Data</td>\n",
       "      <td>59.79</td>\n",
       "      <td>80.17</td>\n",
       "    </tr>\n",
       "    <tr>\n",
       "      <td>920</td>\n",
       "      <td>2020-01-10 14:00:00</td>\n",
       "      <td>No Data</td>\n",
       "      <td>No Data</td>\n",
       "      <td>No Data</td>\n",
       "      <td>No Data</td>\n",
       "      <td>No Data</td>\n",
       "      <td>No Data</td>\n",
       "      <td>78.08</td>\n",
       "      <td>55.87</td>\n",
       "      <td>No Data</td>\n",
       "      <td>...</td>\n",
       "      <td>59.43</td>\n",
       "      <td>No Data</td>\n",
       "      <td>22.72</td>\n",
       "      <td>20.30</td>\n",
       "      <td>No Data</td>\n",
       "      <td>No Data</td>\n",
       "      <td>No Data</td>\n",
       "      <td>No Data</td>\n",
       "      <td>61.05</td>\n",
       "      <td>79.99</td>\n",
       "    </tr>\n",
       "    <tr>\n",
       "      <td>921</td>\n",
       "      <td>2020-01-10 14:15:00</td>\n",
       "      <td>No Data</td>\n",
       "      <td>No Data</td>\n",
       "      <td>No Data</td>\n",
       "      <td>No Data</td>\n",
       "      <td>No Data</td>\n",
       "      <td>No Data</td>\n",
       "      <td>77.90</td>\n",
       "      <td>54.61</td>\n",
       "      <td>No Data</td>\n",
       "      <td>...</td>\n",
       "      <td>57.63</td>\n",
       "      <td>No Data</td>\n",
       "      <td>22.79</td>\n",
       "      <td>No Data</td>\n",
       "      <td>No Data</td>\n",
       "      <td>No Data</td>\n",
       "      <td>No Data</td>\n",
       "      <td>No Data</td>\n",
       "      <td>59.50</td>\n",
       "      <td>79.81</td>\n",
       "    </tr>\n",
       "    <tr>\n",
       "      <td>922</td>\n",
       "      <td>2020-01-10 14:30:00</td>\n",
       "      <td>No Data</td>\n",
       "      <td>No Data</td>\n",
       "      <td>No Data</td>\n",
       "      <td>No Data</td>\n",
       "      <td>No Data</td>\n",
       "      <td>No Data</td>\n",
       "      <td>77.76</td>\n",
       "      <td>54.32</td>\n",
       "      <td>No Data</td>\n",
       "      <td>...</td>\n",
       "      <td>56.88</td>\n",
       "      <td>No Data</td>\n",
       "      <td>25.71</td>\n",
       "      <td>No Data</td>\n",
       "      <td>No Data</td>\n",
       "      <td>No Data</td>\n",
       "      <td>No Data</td>\n",
       "      <td>No Data</td>\n",
       "      <td>59.07</td>\n",
       "      <td>79.77</td>\n",
       "    </tr>\n",
       "    <tr>\n",
       "      <td>923</td>\n",
       "      <td>2020-01-10 14:45:00</td>\n",
       "      <td>No Data</td>\n",
       "      <td>No Data</td>\n",
       "      <td>No Data</td>\n",
       "      <td>No Data</td>\n",
       "      <td>No Data</td>\n",
       "      <td>No Data</td>\n",
       "      <td>78.01</td>\n",
       "      <td>54.82</td>\n",
       "      <td>No Data</td>\n",
       "      <td>...</td>\n",
       "      <td>57.96</td>\n",
       "      <td>No Data</td>\n",
       "      <td>NaN</td>\n",
       "      <td>No Data</td>\n",
       "      <td>No Data</td>\n",
       "      <td>No Data</td>\n",
       "      <td>No Data</td>\n",
       "      <td>No Data</td>\n",
       "      <td>60.08</td>\n",
       "      <td>79.99</td>\n",
       "    </tr>\n",
       "  </tbody>\n",
       "</table>\n",
       "<p>924 rows × 22 columns</p>\n",
       "</div>"
      ],
      "text/plain": [
       "              Timestamp SW.AC10.PHT SW.AC10.PHV SW.AC11.SAT1 SW.AC11.PHV  \\\n",
       "0   2020-01-01 00:00:00       56.70       22.65        79.99       99.20   \n",
       "1   2020-01-01 00:15:00       56.70       22.81        79.99       99.20   \n",
       "2   2020-01-01 00:30:00       52.81       22.71        80.13       99.20   \n",
       "3   2020-01-01 00:45:00       52.81       28.19        80.13       99.20   \n",
       "4   2020-01-01 01:00:00       54.57       27.96        80.31       99.20   \n",
       "..                  ...         ...         ...          ...         ...   \n",
       "919 2020-01-10 13:45:00     No Data     No Data      No Data     No Data   \n",
       "920 2020-01-10 14:00:00     No Data     No Data      No Data     No Data   \n",
       "921 2020-01-10 14:15:00     No Data     No Data      No Data     No Data   \n",
       "922 2020-01-10 14:30:00     No Data     No Data      No Data     No Data   \n",
       "923 2020-01-10 14:45:00     No Data     No Data      No Data     No Data   \n",
       "\n",
       "    SW.AC11.RHV1 SW.AC11.RHV2 SW.AHU13.HD.HCT SW.AHU13.CD.HCT SW.AHU12.HD.HCT  \\\n",
       "0          30.66         0.00           78.15           55.22           77.25   \n",
       "1          30.66         0.00           77.94           54.82           77.54   \n",
       "2          30.66         0.00           78.04           55.00           77.50   \n",
       "3          30.66         0.00           78.04           54.75           77.50   \n",
       "4          30.66         0.00           78.08           55.47           77.47   \n",
       "..           ...          ...             ...             ...             ...   \n",
       "919      No Data      No Data           78.26           55.00         No Data   \n",
       "920      No Data      No Data           78.08           55.87         No Data   \n",
       "921      No Data      No Data           77.90           54.61         No Data   \n",
       "922      No Data      No Data           77.76           54.32         No Data   \n",
       "923      No Data      No Data           78.01           54.82         No Data   \n",
       "\n",
       "     ... SW.AHU13.CD.RHCT SW.AHU12.CD.RHCT SW.AHU12.CD.HCV SW.AHU12.HD.HCV  \\\n",
       "0    ...            59.32            57.63           33.16           27.27   \n",
       "1    ...            58.89            57.70           33.05           26.06   \n",
       "2    ...            59.22            57.38           34.09           27.22   \n",
       "3    ...            58.96            57.09           33.04           26.15   \n",
       "4    ...            59.29            57.02           34.09           27.19   \n",
       "..   ...              ...              ...             ...             ...   \n",
       "919  ...            57.99          No Data           22.45           20.43   \n",
       "920  ...            59.43          No Data           22.72           20.30   \n",
       "921  ...            57.63          No Data           22.79         No Data   \n",
       "922  ...            56.88          No Data           25.71         No Data   \n",
       "923  ...            57.96          No Data             NaN         No Data   \n",
       "\n",
       "    SW.AHU13.CD.HCV SW.AHU13.HD.HCV SW.AHU12.CD.SAT SW.AHU12.HD.SAT  \\\n",
       "0             25.00           30.64           60.30           79.77   \n",
       "1             25.22           30.64           60.40           80.10   \n",
       "2             26.13           31.70           60.04           79.99   \n",
       "3             26.10           31.70           59.94           79.99   \n",
       "4             27.04           31.63           59.79           79.95   \n",
       "..              ...             ...             ...             ...   \n",
       "919           20.86         No Data         No Data         No Data   \n",
       "920         No Data         No Data         No Data         No Data   \n",
       "921         No Data         No Data         No Data         No Data   \n",
       "922         No Data         No Data         No Data         No Data   \n",
       "923         No Data         No Data         No Data         No Data   \n",
       "\n",
       "    SW.AHU13.CD.SAT SW.AHU13.HD.SAT  \n",
       "0             60.08           80.06  \n",
       "1             59.68           79.92  \n",
       "2             60.01           79.92  \n",
       "3             59.79           79.95  \n",
       "4             59.94           80.06  \n",
       "..              ...             ...  \n",
       "919           59.79           80.17  \n",
       "920           61.05           79.99  \n",
       "921           59.50           79.81  \n",
       "922           59.07           79.77  \n",
       "923           60.08           79.99  \n",
       "\n",
       "[924 rows x 22 columns]"
      ]
     },
     "execution_count": 20,
     "metadata": {},
     "output_type": "execute_result"
    }
   ],
   "source": [
    "df"
   ]
  },
  {
   "cell_type": "code",
   "execution_count": null,
   "metadata": {},
   "outputs": [],
   "source": []
  },
  {
   "cell_type": "code",
   "execution_count": 21,
   "metadata": {},
   "outputs": [],
   "source": [
    "df.to_csv(fileNameClean,sep=',')"
   ]
  },
  {
   "cell_type": "code",
   "execution_count": null,
   "metadata": {},
   "outputs": [],
   "source": [
    "##############################SCRATCH##############################"
   ]
  },
  {
   "cell_type": "code",
   "execution_count": 167,
   "metadata": {},
   "outputs": [],
   "source": [
    "def check_chunck(col):\n",
    "    wrongdf = df[df[col] == 0]\n",
    "    if len(wrongdf.index)>13:\n",
    "        for i in range(len(wrongdf.index)-13):\n",
    "            if (wrongdf.index[i]==wrongdf.index[i+1]-1==wrongdf.index[i+2]-2==wrongdf.index[i+3]-3==wrongdf.index[i+4]-4==\n",
    "            wrongdf.index[i+5]-5==wrongdf.index[i+6]-6==wrongdf.index[i+7]-7==wrongdf.index[i+8]-8==wrongdf.index[i+9]-9==\n",
    "            wrongdf.index[i+10]-10==wrongdf.index[i+11]-11==wrongdf.index[i+12]-12):\n",
    "                print(\"There is a large chunck of errors on \" + wrongdf.loc[wrongdf.index[i],\"Timestamp\"])\n",
    "\n",
    "check_chunck('Point_1')\n",
    "check_chunck('Point_2')\n",
    "check_chunck('Point_3')\n",
    "check_chunck('Point_6')\n",
    "\n",
    "\n"
   ]
  },
  {
   "cell_type": "code",
   "execution_count": 180,
   "metadata": {},
   "outputs": [
    {
     "ename": "SyntaxError",
     "evalue": "can't assign to operator (<ipython-input-180-68b1a392bf7a>, line 2)",
     "output_type": "error",
     "traceback": [
      "\u001b[1;36m  File \u001b[1;32m\"<ipython-input-180-68b1a392bf7a>\"\u001b[1;36m, line \u001b[1;32m2\u001b[0m\n\u001b[1;33m    point_+str(n)=n*2\u001b[0m\n\u001b[1;37m    ^\u001b[0m\n\u001b[1;31mSyntaxError\u001b[0m\u001b[1;31m:\u001b[0m can't assign to operator\n"
     ]
    }
   ],
   "source": [
    "for n in range(1,21):\n",
    "    point_+str(n)=n*2"
   ]
  },
  {
   "cell_type": "code",
   "execution_count": 9,
   "metadata": {
    "scrolled": true
   },
   "outputs": [
    {
     "ename": "AttributeError",
     "evalue": "module 'datetime' has no attribute 'combine'",
     "output_type": "error",
     "traceback": [
      "\u001b[1;31m---------------------------------------------------------------------------\u001b[0m",
      "\u001b[1;31mAttributeError\u001b[0m                            Traceback (most recent call last)",
      "\u001b[1;32m<ipython-input-9-a7dba9dc2bb3>\u001b[0m in \u001b[0;36m<module>\u001b[1;34m\u001b[0m\n\u001b[0;32m     51\u001b[0m     \u001b[1;32mreturn\u001b[0m \u001b[0mcorrect\u001b[0m\u001b[1;33m\u001b[0m\u001b[1;33m\u001b[0m\u001b[0m\n\u001b[0;32m     52\u001b[0m \u001b[1;31m#verify_large_missing_time(5245)\u001b[0m\u001b[1;33m\u001b[0m\u001b[1;33m\u001b[0m\u001b[1;33m\u001b[0m\u001b[0m\n\u001b[1;32m---> 53\u001b[1;33m \u001b[0mdf1\u001b[0m\u001b[1;33m=\u001b[0m\u001b[0mcheck_time\u001b[0m\u001b[1;33m(\u001b[0m\u001b[0mdf\u001b[0m\u001b[1;33m)\u001b[0m\u001b[1;33m\u001b[0m\u001b[1;33m\u001b[0m\u001b[0m\n\u001b[0m\u001b[0;32m     54\u001b[0m \u001b[1;31m#'%H:%M:%S'\u001b[0m\u001b[1;33m\u001b[0m\u001b[1;33m\u001b[0m\u001b[1;33m\u001b[0m\u001b[0m\n",
      "\u001b[1;32m<ipython-input-9-a7dba9dc2bb3>\u001b[0m in \u001b[0;36mcheck_time\u001b[1;34m(df)\u001b[0m\n\u001b[0;32m     14\u001b[0m \u001b[1;33m\u001b[0m\u001b[0m\n\u001b[0;32m     15\u001b[0m \u001b[1;33m\u001b[0m\u001b[0m\n\u001b[1;32m---> 16\u001b[1;33m         \u001b[1;32mif\u001b[0m \u001b[1;33m(\u001b[0m\u001b[1;32mnot\u001b[0m \u001b[0mverify_large_missing_time\u001b[0m\u001b[1;33m(\u001b[0m\u001b[0mi\u001b[0m\u001b[1;33m)\u001b[0m\u001b[1;33m)\u001b[0m\u001b[1;33m:\u001b[0m\u001b[1;33m\u001b[0m\u001b[1;33m\u001b[0m\u001b[0m\n\u001b[0m\u001b[0;32m     17\u001b[0m             \u001b[0mprint\u001b[0m\u001b[1;33m(\u001b[0m\u001b[1;34m'OMG'\u001b[0m\u001b[1;33m)\u001b[0m\u001b[1;33m\u001b[0m\u001b[1;33m\u001b[0m\u001b[0m\n\u001b[0;32m     18\u001b[0m             \u001b[0mprint\u001b[0m\u001b[1;33m(\u001b[0m\u001b[0mi\u001b[0m\u001b[1;33m)\u001b[0m\u001b[1;33m\u001b[0m\u001b[1;33m\u001b[0m\u001b[0m\n",
      "\u001b[1;32m<ipython-input-9-a7dba9dc2bb3>\u001b[0m in \u001b[0;36mverify_large_missing_time\u001b[1;34m(i)\u001b[0m\n\u001b[0;32m     43\u001b[0m \u001b[1;31m#Verify if the time under timestamp matches with its lower cell\u001b[0m\u001b[1;33m\u001b[0m\u001b[1;33m\u001b[0m\u001b[1;33m\u001b[0m\u001b[0m\n\u001b[0;32m     44\u001b[0m     \u001b[0mcorrect\u001b[0m\u001b[1;33m=\u001b[0m\u001b[1;32mFalse\u001b[0m\u001b[1;33m\u001b[0m\u001b[1;33m\u001b[0m\u001b[0m\n\u001b[1;32m---> 45\u001b[1;33m     \u001b[0mlater\u001b[0m\u001b[1;33m=\u001b[0m\u001b[1;33m(\u001b[0m\u001b[0mdatetime\u001b[0m\u001b[1;33m.\u001b[0m\u001b[0mcombine\u001b[0m\u001b[1;33m(\u001b[0m\u001b[0mdatetime\u001b[0m\u001b[1;33m.\u001b[0m\u001b[0mdate\u001b[0m\u001b[1;33m.\u001b[0m\u001b[0mstrptime\u001b[0m\u001b[1;33m(\u001b[0m\u001b[0mdate_list\u001b[0m\u001b[1;33m[\u001b[0m\u001b[0mi\u001b[0m\u001b[1;33m]\u001b[0m\u001b[1;33m,\u001b[0m \u001b[1;34m'%m/%d/%Y'\u001b[0m\u001b[1;33m)\u001b[0m\u001b[1;33m+\u001b[0m\u001b[0mdatetime\u001b[0m\u001b[1;33m.\u001b[0m\u001b[0mtime\u001b[0m\u001b[1;33m.\u001b[0m\u001b[0mstrptime\u001b[0m\u001b[1;33m(\u001b[0m\u001b[0mtime_list\u001b[0m\u001b[1;33m[\u001b[0m\u001b[0mi\u001b[0m\u001b[1;33m]\u001b[0m\u001b[1;33m,\u001b[0m \u001b[1;34m'%H:%M:%S'\u001b[0m\u001b[1;33m)\u001b[0m\u001b[1;33m)\u001b[0m\u001b[1;33m+\u001b[0m \u001b[0mdatetime\u001b[0m\u001b[1;33m.\u001b[0m\u001b[0mtimedelta\u001b[0m\u001b[1;33m(\u001b[0m\u001b[0mminutes\u001b[0m\u001b[1;33m=\u001b[0m\u001b[1;36m15\u001b[0m\u001b[1;33m)\u001b[0m\u001b[1;33m)\u001b[0m\u001b[1;33m\u001b[0m\u001b[1;33m\u001b[0m\u001b[0m\n\u001b[0m\u001b[0;32m     46\u001b[0m     \u001b[1;32mfor\u001b[0m \u001b[0mj\u001b[0m \u001b[1;32min\u001b[0m \u001b[0mrange\u001b[0m\u001b[1;33m(\u001b[0m\u001b[1;36m12\u001b[0m\u001b[1;33m)\u001b[0m\u001b[1;33m:\u001b[0m\u001b[1;33m\u001b[0m\u001b[1;33m\u001b[0m\u001b[0m\n\u001b[0;32m     47\u001b[0m         \u001b[1;32mif\u001b[0m \u001b[1;33m(\u001b[0m\u001b[0mlater\u001b[0m\u001b[1;33m==\u001b[0m\u001b[0mdatetime\u001b[0m\u001b[1;33m.\u001b[0m\u001b[0mcombine\u001b[0m\u001b[1;33m(\u001b[0m\u001b[0mdatetime\u001b[0m\u001b[1;33m.\u001b[0m\u001b[0mtime\u001b[0m\u001b[1;33m.\u001b[0m\u001b[0mstrptime\u001b[0m\u001b[1;33m(\u001b[0m\u001b[0mtime_list\u001b[0m\u001b[1;33m[\u001b[0m\u001b[0mi\u001b[0m\u001b[1;33m+\u001b[0m\u001b[1;36m1\u001b[0m\u001b[1;33m]\u001b[0m\u001b[1;33m,\u001b[0m \u001b[1;34m'%H:%M:%S'\u001b[0m\u001b[1;33m)\u001b[0m\u001b[1;33m+\u001b[0m\u001b[0mdatetime\u001b[0m\u001b[1;33m.\u001b[0m\u001b[0mdate\u001b[0m\u001b[1;33m.\u001b[0m\u001b[0mstrptime\u001b[0m\u001b[1;33m(\u001b[0m\u001b[0mdate_list\u001b[0m\u001b[1;33m[\u001b[0m\u001b[0mi\u001b[0m\u001b[1;33m+\u001b[0m\u001b[1;36m1\u001b[0m\u001b[1;33m]\u001b[0m\u001b[1;33m,\u001b[0m \u001b[1;34m'%m/%d/%Y'\u001b[0m\u001b[1;33m)\u001b[0m\u001b[1;33m)\u001b[0m\u001b[1;33m)\u001b[0m\u001b[1;33m:\u001b[0m\u001b[1;33m\u001b[0m\u001b[1;33m\u001b[0m\u001b[0m\n",
      "\u001b[1;31mAttributeError\u001b[0m: module 'datetime' has no attribute 'combine'"
     ]
    }
   ],
   "source": [
    "time_list = df['Time'].tolist() \n",
    "date_list = df['<>Date'].tolist()\n",
    "def check_time(df):\n",
    "#Conduct verify_time function to all the timestamps\n",
    "    #correct=True\n",
    "    j=0\n",
    "    k=1\n",
    "    for i in range(len(time_list)-1):\n",
    "        if(i>0):\n",
    "            Point_1_val=(float(df.loc[i+1,'Point_1'])+float(df.loc[i-1,'Point_1']))/2\n",
    "            Point_2_val=(float(df.loc[i+1,'Point_2'])+float(df.loc[i-1,'Point_2']))/2\n",
    "            Point_3_val=(float(df.loc[i+1,'Point_3'])+float(df.loc[i-1,'Point_3']))/2\n",
    "            Point_4_val=(float(df.loc[i+1,'Point_4'])+float(df.loc[i-1,'Point_4']))/2\n",
    "\n",
    "            \n",
    "        if (not verify_large_missing_time(i)):\n",
    "            print('OMG')\n",
    "            print(i)\n",
    "            line = pd.DataFrame({\"Timestamp\":(datetime.datetime.strptime(time_list[i], '%H:%M:%S')+ datetime.timedelta(minutes=15)).strftime('%m/%d/%Y %H:%M')},index=[i])\n",
    "            df=pd.concat([df.iloc[:i+j+k], line, df.iloc[i+j+k:]]).reset_index(drop=True)\n",
    "            j=j+1\n",
    "                \n",
    "            \n",
    "        elif (not verify_time(i)):\n",
    "            print(\"There is a false time at \"+time_list[i]+\" to \"+time_list[i+1])\n",
    "            #Create a new line with plus 15 minutes and data of the average of the upper cell data and lower cell data\n",
    "            line = pd.DataFrame({\"Timestamp\":(datetime.datetime.strptime(time_list[i], '%H:%M:%S')+ datetime.timedelta(minutes=15)).strftime('%m/%d/%Y %H:%M'),\n",
    "                    'Point_1':Point_1_val,'Point_2':Point_2_val ,'Point_3':Point_3_val ,'Point_4':Point_4_val},index=[i])\n",
    "            df=pd.concat([df.iloc[:i+j+k], line, df.iloc[i+j+k:]]).reset_index(drop=True)\n",
    "            k=k+1\n",
    "            #correct=False\n",
    "#Report false if anything is wrong; will be used in while loops\n",
    "    #df.to_csv(fileNameClean,sep=',')\n",
    "    return df\n",
    "def verify_time(i):\n",
    "#Verify if the time under timestamp matches with its lower cell\n",
    "    later=(datetime.datetime.strptime(time_list[i], '%H:%M:%S')+ datetime.timedelta(minutes=15))\n",
    "    if (later==datetime.datetime.strptime(time_list[i+1], '%H:%M:%S')):\n",
    "        return True\n",
    "    else:\n",
    "        return False\n",
    "def verify_large_missing_time(i):\n",
    "#Verify if the time under timestamp matches with its lower cell\n",
    "    correct=False\n",
    "    later=(datetime.combine(datetime.date.strptime(date_list[i], '%m/%d/%Y')+datetime.time.strptime(time_list[i], '%H:%M:%S'))+ datetime.timedelta(minutes=15))\n",
    "    for j in range(12):\n",
    "        if (later==datetime.combine(datetime.time.strptime(time_list[i+1], '%H:%M:%S')+datetime.date.strptime(date_list[i+1], '%m/%d/%Y'))):\n",
    "            correct=True\n",
    "        else:\n",
    "            later=later + datetime.timedelta(minutes=15)\n",
    "    return correct\n",
    "#verify_large_missing_time(5245)\n",
    "df1=check_time(df)\n",
    "#'%H:%M:%S'\n"
   ]
  },
  {
   "cell_type": "code",
   "execution_count": 297,
   "metadata": {
    "scrolled": true
   },
   "outputs": [
    {
     "name": "stdout",
     "output_type": "stream",
     "text": [
      "6/30/2019 18:15\n"
     ]
    }
   ],
   "source": [
    "print(wrong_list[0])"
   ]
  },
  {
   "cell_type": "code",
   "execution_count": 298,
   "metadata": {},
   "outputs": [],
   "source": [
    "later=(datetime.datetime.strptime(wrong_list[0], '%m/%d/%Y %H:%M')+ dt.timedelta(minutes=15))\n",
    "before=(datetime.datetime.strptime(wrong_list[0], '%m/%d/%Y %H:%M')- dt.timedelta(minutes=15))"
   ]
  },
  {
   "cell_type": "code",
   "execution_count": 110,
   "metadata": {
    "scrolled": true
   },
   "outputs": [
    {
     "ename": "NameError",
     "evalue": "name 'col_1' is not defined",
     "output_type": "error",
     "traceback": [
      "\u001b[1;31m---------------------------------------------------------------------------\u001b[0m",
      "\u001b[1;31mNameError\u001b[0m                                 Traceback (most recent call last)",
      "\u001b[1;32m<ipython-input-110-192ba98c9808>\u001b[0m in \u001b[0;36m<module>\u001b[1;34m\u001b[0m\n\u001b[0;32m     15\u001b[0m \u001b[1;33m\u001b[0m\u001b[0m\n\u001b[0;32m     16\u001b[0m         \u001b[0mmodify\u001b[0m\u001b[1;33m(\u001b[0m\u001b[0mdf\u001b[0m\u001b[1;33m.\u001b[0m\u001b[0mloc\u001b[0m\u001b[1;33m[\u001b[0m\u001b[1;33m(\u001b[0m\u001b[0mdf\u001b[0m\u001b[1;33m[\u001b[0m\u001b[0mcol_4\u001b[0m\u001b[1;33m]\u001b[0m\u001b[1;33m<=\u001b[0m\u001b[1;36m40\u001b[0m\u001b[1;33m)\u001b[0m\u001b[1;33m|\u001b[0m\u001b[1;33m(\u001b[0m\u001b[0mdf\u001b[0m\u001b[1;33m[\u001b[0m\u001b[0mcol_4\u001b[0m\u001b[1;33m]\u001b[0m\u001b[1;33m>\u001b[0m\u001b[1;36m120\u001b[0m\u001b[1;33m)\u001b[0m\u001b[1;33m]\u001b[0m\u001b[1;33m.\u001b[0m\u001b[0mindex\u001b[0m\u001b[1;33m[\u001b[0m\u001b[1;36m0\u001b[0m\u001b[1;33m]\u001b[0m\u001b[1;33m,\u001b[0m\u001b[0mcol_4\u001b[0m\u001b[1;33m)\u001b[0m\u001b[1;33m\u001b[0m\u001b[1;33m\u001b[0m\u001b[0m\n\u001b[1;32m---> 17\u001b[1;33m \u001b[0mautomodify\u001b[0m\u001b[1;33m(\u001b[0m\u001b[1;33m)\u001b[0m\u001b[1;33m\u001b[0m\u001b[1;33m\u001b[0m\u001b[0m\n\u001b[0m",
      "\u001b[1;32m<ipython-input-110-192ba98c9808>\u001b[0m in \u001b[0;36mautomodify\u001b[1;34m()\u001b[0m\n\u001b[0;32m      1\u001b[0m \u001b[1;32mdef\u001b[0m \u001b[0mautomodify\u001b[0m\u001b[1;33m(\u001b[0m\u001b[1;33m)\u001b[0m\u001b[1;33m:\u001b[0m\u001b[1;33m\u001b[0m\u001b[1;33m\u001b[0m\u001b[0m\n\u001b[0;32m      2\u001b[0m \u001b[1;31m#Check for errors in Relative Humidity and fix when incorrect(below 20% or above 75%)\u001b[0m\u001b[1;33m\u001b[0m\u001b[1;33m\u001b[0m\u001b[1;33m\u001b[0m\u001b[0m\n\u001b[1;32m----> 3\u001b[1;33m     \u001b[1;32mfor\u001b[0m \u001b[0mi\u001b[0m \u001b[1;32min\u001b[0m \u001b[0mrange\u001b[0m\u001b[1;33m(\u001b[0m\u001b[0mlen\u001b[0m\u001b[1;33m(\u001b[0m\u001b[0mdf\u001b[0m\u001b[1;33m.\u001b[0m\u001b[0mloc\u001b[0m\u001b[1;33m[\u001b[0m\u001b[1;33m(\u001b[0m\u001b[0mdf\u001b[0m\u001b[1;33m[\u001b[0m\u001b[0mcol_1\u001b[0m\u001b[1;33m]\u001b[0m\u001b[1;33m<=\u001b[0m\u001b[1;36m20\u001b[0m\u001b[1;33m)\u001b[0m\u001b[1;33m|\u001b[0m\u001b[1;33m(\u001b[0m\u001b[0mdf\u001b[0m\u001b[1;33m[\u001b[0m\u001b[0mcol_1\u001b[0m\u001b[1;33m]\u001b[0m\u001b[1;33m>=\u001b[0m\u001b[1;36m75\u001b[0m\u001b[1;33m)\u001b[0m\u001b[1;33m]\u001b[0m\u001b[1;33m)\u001b[0m\u001b[1;33m)\u001b[0m\u001b[1;33m:\u001b[0m\u001b[1;33m\u001b[0m\u001b[1;33m\u001b[0m\u001b[0m\n\u001b[0m\u001b[0;32m      4\u001b[0m \u001b[1;33m\u001b[0m\u001b[0m\n\u001b[0;32m      5\u001b[0m         \u001b[0mmodify\u001b[0m\u001b[1;33m(\u001b[0m\u001b[0mdf\u001b[0m\u001b[1;33m.\u001b[0m\u001b[0mloc\u001b[0m\u001b[1;33m[\u001b[0m\u001b[1;33m(\u001b[0m\u001b[0mdf\u001b[0m\u001b[1;33m[\u001b[0m\u001b[0mcol_1\u001b[0m\u001b[1;33m]\u001b[0m\u001b[1;33m<=\u001b[0m\u001b[1;36m20\u001b[0m\u001b[1;33m)\u001b[0m\u001b[1;33m|\u001b[0m\u001b[1;33m(\u001b[0m\u001b[0mdf\u001b[0m\u001b[1;33m[\u001b[0m\u001b[0mcol_1\u001b[0m\u001b[1;33m]\u001b[0m\u001b[1;33m>=\u001b[0m\u001b[1;36m75\u001b[0m\u001b[1;33m)\u001b[0m\u001b[1;33m]\u001b[0m\u001b[1;33m.\u001b[0m\u001b[0mindex\u001b[0m\u001b[1;33m[\u001b[0m\u001b[1;36m0\u001b[0m\u001b[1;33m]\u001b[0m\u001b[1;33m,\u001b[0m\u001b[0mcol_1\u001b[0m\u001b[1;33m)\u001b[0m\u001b[1;33m\u001b[0m\u001b[1;33m\u001b[0m\u001b[0m\n",
      "\u001b[1;31mNameError\u001b[0m: name 'col_1' is not defined"
     ]
    }
   ],
   "source": [
    "def automodify():\n",
    "#Check for errors in Relative Humidity and fix when incorrect(below 20% or above 75%)\n",
    "    for i in range(len(df.loc[(df[col_1]<=20)|(df[col_1]>=75)])):\n",
    "\n",
    "        modify(df.loc[(df[col_1]<=20)|(df[col_1]>=75)].index[0],col_1)\n",
    "    for i in range(len(df.loc[(df[col_3]<=20)|(df[col_3]>=75)])):\n",
    "\n",
    "        modify(df.loc[(df[col_3]<=20)|(df[col_3]>=75)].index[0],col_3)\n",
    "    \n",
    "#Check for errors in Temperature and fix when incorrect(below 40F(around 5 celsius) or above 120F(around 45 celsius))\n",
    "    for i in range(len(df.loc[(df[col_2]<=40)|(df[col_2]>=120)])):\n",
    "\n",
    "        modify(df.loc[(df[col_2]<=40)|(df[col_2]>=120)].index[0],col_2)\n",
    "    for i in range(len(df.loc[(df[col_4]<=40)|(df[col_4]>=120)])):\n",
    "\n",
    "        modify(df.loc[(df[col_4]<=40)|(df[col_4]>120)].index[0],col_4)\n",
    "automodify()"
   ]
  },
  {
   "cell_type": "code",
   "execution_count": 299,
   "metadata": {},
   "outputs": [
    {
     "name": "stdout",
     "output_type": "stream",
     "text": [
      "06/30/2019 18:30\n"
     ]
    }
   ],
   "source": [
    "later_str = later.strftime('%m/%d/%Y %H:%M')\n",
    "print(later_str)"
   ]
  },
  {
   "cell_type": "code",
   "execution_count": 317,
   "metadata": {
    "scrolled": false
   },
   "outputs": [
    {
     "name": "stdout",
     "output_type": "stream",
     "text": [
      "50.4\n"
     ]
    }
   ],
   "source": [
    "i=df.loc[8,'ArtStorageUnit SpaceRH 15_Min(%)']\n",
    "print(i)"
   ]
  },
  {
   "cell_type": "code",
   "execution_count": 302,
   "metadata": {},
   "outputs": [
    {
     "ename": "TypeError",
     "evalue": "can only concatenate str (not \"datetime.timedelta\") to str",
     "output_type": "error",
     "traceback": [
      "\u001b[1;31m---------------------------------------------------------------------------\u001b[0m",
      "\u001b[1;31mTypeError\u001b[0m                                 Traceback (most recent call last)",
      "\u001b[1;32m<ipython-input-302-67fbf0b734fd>\u001b[0m in \u001b[0;36m<module>\u001b[1;34m\u001b[0m\n\u001b[1;32m----> 1\u001b[1;33m \u001b[0mwrongdf\u001b[0m\u001b[1;33m.\u001b[0m\u001b[0mloc\u001b[0m\u001b[1;33m[\u001b[0m\u001b[1;34m\"ArtStorageUnit SpaceRH 15_Min(%)\"\u001b[0m\u001b[1;33m,\u001b[0m\u001b[0mwrong_list\u001b[0m\u001b[1;33m[\u001b[0m\u001b[1;36m0\u001b[0m\u001b[1;33m]\u001b[0m\u001b[1;33m]\u001b[0m \u001b[1;33m=\u001b[0m \u001b[0mdf\u001b[0m\u001b[1;33m.\u001b[0m\u001b[0mloc\u001b[0m\u001b[1;33m[\u001b[0m\u001b[1;34m\"ArtStorageUnit SpaceRH 15_Min(%)\"\u001b[0m\u001b[1;33m,\u001b[0m\u001b[0mwrong_list\u001b[0m\u001b[1;33m[\u001b[0m\u001b[1;36m0\u001b[0m\u001b[1;33m]\u001b[0m\u001b[1;33m+\u001b[0m \u001b[0mdt\u001b[0m\u001b[1;33m.\u001b[0m\u001b[0mtimedelta\u001b[0m\u001b[1;33m(\u001b[0m\u001b[0mminutes\u001b[0m\u001b[1;33m=\u001b[0m\u001b[1;36m15\u001b[0m\u001b[1;33m)\u001b[0m\u001b[1;33m]\u001b[0m\u001b[1;33m\u001b[0m\u001b[1;33m\u001b[0m\u001b[0m\n\u001b[0m",
      "\u001b[1;31mTypeError\u001b[0m: can only concatenate str (not \"datetime.timedelta\") to str"
     ]
    }
   ],
   "source": [
    "wrongdf.loc[\"ArtStorageUnit SpaceRH 15_Min(%)\",wrong_list[0]] = df.loc[\"ArtStorageUnit SpaceRH 15_Min(%)\",wrong_list[0]+ dt.timedelta(minutes=15)]"
   ]
  },
  {
   "cell_type": "code",
   "execution_count": null,
   "metadata": {},
   "outputs": [],
   "source": []
  },
  {
   "cell_type": "code",
   "execution_count": null,
   "metadata": {},
   "outputs": [],
   "source": []
  },
  {
   "cell_type": "code",
   "execution_count": null,
   "metadata": {},
   "outputs": [],
   "source": []
  },
  {
   "cell_type": "code",
   "execution_count": 327,
   "metadata": {},
   "outputs": [],
   "source": [
    "wrongdf = df[df['ArtStorageUnit SpaceRH 15_Min(%)'] == 50.4]"
   ]
  }
 ],
 "metadata": {
  "kernelspec": {
   "display_name": "Python 3",
   "language": "python",
   "name": "python3"
  },
  "language_info": {
   "codemirror_mode": {
    "name": "ipython",
    "version": 3
   },
   "file_extension": ".py",
   "mimetype": "text/x-python",
   "name": "python",
   "nbconvert_exporter": "python",
   "pygments_lexer": "ipython3",
   "version": "3.7.4"
  }
 },
 "nbformat": 4,
 "nbformat_minor": 2
}
