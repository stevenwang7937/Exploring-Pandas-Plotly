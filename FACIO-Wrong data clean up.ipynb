{
 "cells": [
  {
   "cell_type": "code",
   "execution_count": 6,
   "metadata": {},
   "outputs": [],
   "source": [
    "import pandas as pd\n",
    "import numpy as np\n",
    "import datetime\n",
    "import csv"
   ]
  },
  {
   "cell_type": "code",
   "execution_count": 7,
   "metadata": {},
   "outputs": [],
   "source": [
    "fileName = r'C:\\Users\\wangjuha\\Desktop\\DMG Raw Data Jul-Dec 2019 clean - 2.csv'"
   ]
  },
  {
   "cell_type": "code",
   "execution_count": 8,
   "metadata": {},
   "outputs": [],
   "source": [
    "fileNameClean = fileName[:-4]+' - clean.csv'"
   ]
  },
  {
   "cell_type": "code",
   "execution_count": 9,
   "metadata": {},
   "outputs": [
    {
     "data": {
      "text/plain": [
       "'C:\\\\Users\\\\wangjuha\\\\Desktop\\\\DMG Raw Data Jul-Dec 2019 clean - 2 - clean.csv'"
      ]
     },
     "execution_count": 9,
     "metadata": {},
     "output_type": "execute_result"
    }
   ],
   "source": [
    "fileNameClean"
   ]
  },
  {
   "cell_type": "code",
   "execution_count": 13,
   "metadata": {},
   "outputs": [],
   "source": [
    "df = pd.read_csv(fileName, encoding=\"unicode_escape\")"
   ]
  },
  {
   "cell_type": "code",
   "execution_count": 14,
   "metadata": {},
   "outputs": [
    {
     "data": {
      "text/html": [
       "<div>\n",
       "<style scoped>\n",
       "    .dataframe tbody tr th:only-of-type {\n",
       "        vertical-align: middle;\n",
       "    }\n",
       "\n",
       "    .dataframe tbody tr th {\n",
       "        vertical-align: top;\n",
       "    }\n",
       "\n",
       "    .dataframe thead th {\n",
       "        text-align: right;\n",
       "    }\n",
       "</style>\n",
       "<table border=\"1\" class=\"dataframe\">\n",
       "  <thead>\n",
       "    <tr style=\"text-align: right;\">\n",
       "      <th></th>\n",
       "      <th>Unnamed: 0</th>\n",
       "      <th>Timestamp</th>\n",
       "      <th>ArtStorageUnit SpaceRH 15_Min(%)</th>\n",
       "      <th>ArtStorageUnit SpaceTemp 15_Min(°F)</th>\n",
       "      <th>GalleryUnit SpaceRH15_Min(%)</th>\n",
       "      <th>GalleryUnit SpaceTemp15_Min(°F)</th>\n",
       "    </tr>\n",
       "  </thead>\n",
       "  <tbody>\n",
       "    <tr>\n",
       "      <td>0</td>\n",
       "      <td>0</td>\n",
       "      <td>1/1/2020 0:00</td>\n",
       "      <td>50.2</td>\n",
       "      <td>71.5</td>\n",
       "      <td>45.3</td>\n",
       "      <td>67.2</td>\n",
       "    </tr>\n",
       "    <tr>\n",
       "      <td>1</td>\n",
       "      <td>1</td>\n",
       "      <td>1/1/2020 0:15</td>\n",
       "      <td>49.2</td>\n",
       "      <td>71.6</td>\n",
       "      <td>44.5</td>\n",
       "      <td>67.1</td>\n",
       "    </tr>\n",
       "    <tr>\n",
       "      <td>2</td>\n",
       "      <td>2</td>\n",
       "      <td>1/1/2020 0:30</td>\n",
       "      <td>50.4</td>\n",
       "      <td>71.5</td>\n",
       "      <td>45.2</td>\n",
       "      <td>67.2</td>\n",
       "    </tr>\n",
       "    <tr>\n",
       "      <td>3</td>\n",
       "      <td>3</td>\n",
       "      <td>1/1/2020 0:45</td>\n",
       "      <td>50.5</td>\n",
       "      <td>71.5</td>\n",
       "      <td>45.3</td>\n",
       "      <td>67.2</td>\n",
       "    </tr>\n",
       "    <tr>\n",
       "      <td>4</td>\n",
       "      <td>4</td>\n",
       "      <td>1/1/2020 1:00</td>\n",
       "      <td>50.1</td>\n",
       "      <td>71.8</td>\n",
       "      <td>45.1</td>\n",
       "      <td>67.2</td>\n",
       "    </tr>\n",
       "    <tr>\n",
       "      <td>...</td>\n",
       "      <td>...</td>\n",
       "      <td>...</td>\n",
       "      <td>...</td>\n",
       "      <td>...</td>\n",
       "      <td>...</td>\n",
       "      <td>...</td>\n",
       "    </tr>\n",
       "    <tr>\n",
       "      <td>631</td>\n",
       "      <td>631</td>\n",
       "      <td>1/7/2020 13:45</td>\n",
       "      <td>50.4</td>\n",
       "      <td>71.5</td>\n",
       "      <td>45.3</td>\n",
       "      <td>67.3</td>\n",
       "    </tr>\n",
       "    <tr>\n",
       "      <td>632</td>\n",
       "      <td>632</td>\n",
       "      <td>1/7/2020 14:00</td>\n",
       "      <td>50.4</td>\n",
       "      <td>71.6</td>\n",
       "      <td>45.0</td>\n",
       "      <td>67.5</td>\n",
       "    </tr>\n",
       "    <tr>\n",
       "      <td>633</td>\n",
       "      <td>633</td>\n",
       "      <td>1/7/2020 14:15</td>\n",
       "      <td>46.5</td>\n",
       "      <td>71.3</td>\n",
       "      <td>44.8</td>\n",
       "      <td>67.8</td>\n",
       "    </tr>\n",
       "    <tr>\n",
       "      <td>634</td>\n",
       "      <td>634</td>\n",
       "      <td>1/7/2020 14:30</td>\n",
       "      <td>52.2</td>\n",
       "      <td>71.7</td>\n",
       "      <td>44.9</td>\n",
       "      <td>67.5</td>\n",
       "    </tr>\n",
       "    <tr>\n",
       "      <td>635</td>\n",
       "      <td>635</td>\n",
       "      <td>1/7/2020 14:45</td>\n",
       "      <td>51.5</td>\n",
       "      <td>71.8</td>\n",
       "      <td>45.1</td>\n",
       "      <td>67.6</td>\n",
       "    </tr>\n",
       "  </tbody>\n",
       "</table>\n",
       "<p>636 rows × 6 columns</p>\n",
       "</div>"
      ],
      "text/plain": [
       "     Unnamed: 0       Timestamp  ArtStorageUnit SpaceRH 15_Min(%)  \\\n",
       "0             0   1/1/2020 0:00                              50.2   \n",
       "1             1   1/1/2020 0:15                              49.2   \n",
       "2             2   1/1/2020 0:30                              50.4   \n",
       "3             3   1/1/2020 0:45                              50.5   \n",
       "4             4   1/1/2020 1:00                              50.1   \n",
       "..          ...             ...                               ...   \n",
       "631         631  1/7/2020 13:45                              50.4   \n",
       "632         632  1/7/2020 14:00                              50.4   \n",
       "633         633  1/7/2020 14:15                              46.5   \n",
       "634         634  1/7/2020 14:30                              52.2   \n",
       "635         635  1/7/2020 14:45                              51.5   \n",
       "\n",
       "     ArtStorageUnit SpaceTemp 15_Min(°F)  GalleryUnit SpaceRH15_Min(%)  \\\n",
       "0                                   71.5                          45.3   \n",
       "1                                   71.6                          44.5   \n",
       "2                                   71.5                          45.2   \n",
       "3                                   71.5                          45.3   \n",
       "4                                   71.8                          45.1   \n",
       "..                                   ...                           ...   \n",
       "631                                 71.5                          45.3   \n",
       "632                                 71.6                          45.0   \n",
       "633                                 71.3                          44.8   \n",
       "634                                 71.7                          44.9   \n",
       "635                                 71.8                          45.1   \n",
       "\n",
       "     GalleryUnit SpaceTemp15_Min(°F)  \n",
       "0                               67.2  \n",
       "1                               67.1  \n",
       "2                               67.2  \n",
       "3                               67.2  \n",
       "4                               67.2  \n",
       "..                               ...  \n",
       "631                             67.3  \n",
       "632                             67.5  \n",
       "633                             67.8  \n",
       "634                             67.5  \n",
       "635                             67.6  \n",
       "\n",
       "[636 rows x 6 columns]"
      ]
     },
     "execution_count": 14,
     "metadata": {},
     "output_type": "execute_result"
    }
   ],
   "source": []
  },
  {
   "cell_type": "code",
   "execution_count": 13,
   "metadata": {},
   "outputs": [],
   "source": [
    "col_1='ArtStorageUnit SpaceRH 15_Min(%)'\n",
    "#Name of the first column on the right of Timestamp; Could be changed if needed;Same for below\n",
    "col_2='ArtStorageUnit SpaceTemp 15_Min(F)'\n",
    "col_3='GalleryUnit SpaceRH15_Min(%)'\n",
    "col_4='GalleryUnit SpaceTemp15_Min(F)'"
   ]
  },
  {
   "cell_type": "code",
   "execution_count": 14,
   "metadata": {},
   "outputs": [],
   "source": [
    "def check_chunck(col):\n",
    "    wrongdf = df[df[col] == 0]\n",
    "    if len(wrongdf.index)>13:\n",
    "        for i in range(len(wrongdf.index)-13):\n",
    "            if (wrongdf.index[i]==wrongdf.index[i+1]-1==wrongdf.index[i+2]-2==wrongdf.index[i+3]-3==wrongdf.index[i+4]-4==\n",
    "            wrongdf.index[i+5]-5==wrongdf.index[i+6]-6==wrongdf.index[i+7]-7==wrongdf.index[i+8]-8==wrongdf.index[i+9]-9==\n",
    "            wrongdf.index[i+10]-10==wrongdf.index[i+11]-11==wrongdf.index[i+12]-12):\n",
    "                print(\"There is a large chunck of errors on \" + wrongdf.loc[wrongdf.index[i],\"Timestamp\"])\n",
    "\n",
    "check_chunck(col_1)\n",
    "check_chunck(col_2)\n",
    "check_chunck(col_3)\n",
    "check_chunck(col_4)\n",
    "\n",
    "\n"
   ]
  },
  {
   "cell_type": "code",
   "execution_count": 15,
   "metadata": {},
   "outputs": [],
   "source": [
    "def modify(row_num,col_name):\n",
    "    #replace the value of a cell with the average of its upper cell and its lower cell\n",
    "    df.loc[row_num,col_name]=(df.loc[row_num+1,col_name]+df.loc[row_num-1,col_name])/2"
   ]
  },
  {
   "cell_type": "code",
   "execution_count": 16,
   "metadata": {
    "scrolled": false
   },
   "outputs": [
    {
     "data": {
      "text/plain": [
       "0"
      ]
     },
     "execution_count": 16,
     "metadata": {},
     "output_type": "execute_result"
    }
   ],
   "source": [
    "len(df.loc[(df[col_1]<=20)|(df[col_1]>=75)])\n",
    "#For testing purpose"
   ]
  },
  {
   "cell_type": "code",
   "execution_count": 17,
   "metadata": {
    "scrolled": true
   },
   "outputs": [],
   "source": [
    "def automodify():\n",
    "#Check for errors in Relative Humidity and fix when incorrect(below 20% or above 75%)\n",
    "    for i in range(len(df.loc[(df[col_1]<=20)|(df[col_1]>=75)])):\n",
    "\n",
    "        modify(df.loc[(df[col_1]<=20)|(df[col_1]>=75)].index[0],col_1)\n",
    "    for i in range(len(df.loc[(df[col_3]<=20)|(df[col_3]>=75)])):\n",
    "\n",
    "        modify(df.loc[(df[col_3]<=20)|(df[col_3]>=75)].index[0],col_3)\n",
    "    \n",
    "#Check for errors in Temperature and fix when incorrect(below 40F(around 5 celsius) or above 120F(around 45 celsius))\n",
    "    for i in range(len(df.loc[(df[col_2]<=40)|(df[col_2]>=120)])):\n",
    "\n",
    "        modify(df.loc[(df[col_2]<=40)|(df[col_2]>=120)].index[0],col_2)\n",
    "    for i in range(len(df.loc[(df[col_4]<=40)|(df[col_4]>=120)])):\n",
    "\n",
    "        modify(df.loc[(df[col_4]<=40)|(df[col_4]>120)].index[0],col_4)\n",
    "automodify()"
   ]
  },
  {
   "cell_type": "code",
   "execution_count": 20,
   "metadata": {
    "scrolled": false
   },
   "outputs": [
    {
     "name": "stdout",
     "output_type": "stream",
     "text": [
      "There is a false time at 1/4/2020 16:30 to 1/4/2020 17:00\n"
     ]
    },
    {
     "name": "stderr",
     "output_type": "stream",
     "text": [
      "C:\\Users\\wangjuha\\AppData\\Local\\Continuum\\anaconda3\\lib\\site-packages\\ipykernel_launcher.py:26: FutureWarning: Sorting because non-concatenation axis is not aligned. A future version\n",
      "of pandas will change to not sort by default.\n",
      "\n",
      "To accept the future behavior, pass 'sort=False'.\n",
      "\n",
      "To retain the current behavior and silence the warning, pass 'sort=True'.\n",
      "\n"
     ]
    },
    {
     "ename": "TypeError",
     "evalue": "strptime() argument 1 must be str, not float",
     "output_type": "error",
     "traceback": [
      "\u001b[1;31m---------------------------------------------------------------------------\u001b[0m",
      "\u001b[1;31mTypeError\u001b[0m                                 Traceback (most recent call last)",
      "\u001b[1;32m<ipython-input-20-9d7acf596d6b>\u001b[0m in \u001b[0;36m<module>\u001b[1;34m\u001b[0m\n\u001b[0;32m     48\u001b[0m     \u001b[1;32mreturn\u001b[0m \u001b[0mcorrect\u001b[0m\u001b[1;33m\u001b[0m\u001b[1;33m\u001b[0m\u001b[0m\n\u001b[0;32m     49\u001b[0m \u001b[1;31m#verify_large_missing_time(5245)\u001b[0m\u001b[1;33m\u001b[0m\u001b[1;33m\u001b[0m\u001b[1;33m\u001b[0m\u001b[0m\n\u001b[1;32m---> 50\u001b[1;33m \u001b[0mdf1\u001b[0m\u001b[1;33m=\u001b[0m\u001b[0mcheck_time\u001b[0m\u001b[1;33m(\u001b[0m\u001b[0mdf\u001b[0m\u001b[1;33m)\u001b[0m\u001b[1;33m\u001b[0m\u001b[1;33m\u001b[0m\u001b[0m\n\u001b[0m\u001b[0;32m     51\u001b[0m \u001b[1;31m#'%m/%d/%Y %H:%M'\u001b[0m\u001b[1;33m\u001b[0m\u001b[1;33m\u001b[0m\u001b[1;33m\u001b[0m\u001b[0m\n\u001b[0;32m     52\u001b[0m \u001b[1;31m#'%Y-%m-%d %H:%M:%S'\u001b[0m\u001b[1;33m\u001b[0m\u001b[1;33m\u001b[0m\u001b[1;33m\u001b[0m\u001b[0m\n",
      "\u001b[1;32m<ipython-input-20-9d7acf596d6b>\u001b[0m in \u001b[0;36mcheck_time\u001b[1;34m(df)\u001b[0m\n\u001b[0;32m     11\u001b[0m             \u001b[0mcol_3_val\u001b[0m\u001b[1;33m=\u001b[0m\u001b[1;33m(\u001b[0m\u001b[0mdf\u001b[0m\u001b[1;33m.\u001b[0m\u001b[0mloc\u001b[0m\u001b[1;33m[\u001b[0m\u001b[0mi\u001b[0m\u001b[1;33m+\u001b[0m\u001b[1;36m1\u001b[0m\u001b[1;33m,\u001b[0m\u001b[0mcol_3\u001b[0m\u001b[1;33m]\u001b[0m\u001b[1;33m+\u001b[0m\u001b[0mdf\u001b[0m\u001b[1;33m.\u001b[0m\u001b[0mloc\u001b[0m\u001b[1;33m[\u001b[0m\u001b[0mi\u001b[0m\u001b[1;33m-\u001b[0m\u001b[1;36m1\u001b[0m\u001b[1;33m,\u001b[0m\u001b[0mcol_3\u001b[0m\u001b[1;33m]\u001b[0m\u001b[1;33m)\u001b[0m\u001b[1;33m/\u001b[0m\u001b[1;36m2\u001b[0m\u001b[1;33m\u001b[0m\u001b[1;33m\u001b[0m\u001b[0m\n\u001b[0;32m     12\u001b[0m             \u001b[0mcol_4_val\u001b[0m\u001b[1;33m=\u001b[0m\u001b[1;33m(\u001b[0m\u001b[0mdf\u001b[0m\u001b[1;33m.\u001b[0m\u001b[0mloc\u001b[0m\u001b[1;33m[\u001b[0m\u001b[0mi\u001b[0m\u001b[1;33m+\u001b[0m\u001b[1;36m1\u001b[0m\u001b[1;33m,\u001b[0m\u001b[0mcol_4\u001b[0m\u001b[1;33m]\u001b[0m\u001b[1;33m+\u001b[0m\u001b[0mdf\u001b[0m\u001b[1;33m.\u001b[0m\u001b[0mloc\u001b[0m\u001b[1;33m[\u001b[0m\u001b[0mi\u001b[0m\u001b[1;33m-\u001b[0m\u001b[1;36m1\u001b[0m\u001b[1;33m,\u001b[0m\u001b[0mcol_4\u001b[0m\u001b[1;33m]\u001b[0m\u001b[1;33m)\u001b[0m\u001b[1;33m/\u001b[0m\u001b[1;36m2\u001b[0m\u001b[1;33m\u001b[0m\u001b[1;33m\u001b[0m\u001b[0m\n\u001b[1;32m---> 13\u001b[1;33m         \u001b[1;32mif\u001b[0m \u001b[1;33m(\u001b[0m\u001b[1;32mnot\u001b[0m \u001b[0mverify_large_missing_time\u001b[0m\u001b[1;33m(\u001b[0m\u001b[0mi\u001b[0m\u001b[1;33m)\u001b[0m\u001b[1;33m)\u001b[0m\u001b[1;33m:\u001b[0m\u001b[1;33m\u001b[0m\u001b[1;33m\u001b[0m\u001b[0m\n\u001b[0m\u001b[0;32m     14\u001b[0m             \u001b[0mprint\u001b[0m\u001b[1;33m(\u001b[0m\u001b[1;34m'OMG'\u001b[0m\u001b[1;33m)\u001b[0m\u001b[1;33m\u001b[0m\u001b[1;33m\u001b[0m\u001b[0m\n\u001b[0;32m     15\u001b[0m             \u001b[0mprint\u001b[0m\u001b[1;33m(\u001b[0m\u001b[0mi\u001b[0m\u001b[1;33m)\u001b[0m\u001b[1;33m\u001b[0m\u001b[1;33m\u001b[0m\u001b[0m\n",
      "\u001b[1;32m<ipython-input-20-9d7acf596d6b>\u001b[0m in \u001b[0;36mverify_large_missing_time\u001b[1;34m(i)\u001b[0m\n\u001b[0;32m     42\u001b[0m     \u001b[0mlater\u001b[0m\u001b[1;33m=\u001b[0m\u001b[1;33m(\u001b[0m\u001b[0mdatetime\u001b[0m\u001b[1;33m.\u001b[0m\u001b[0mdatetime\u001b[0m\u001b[1;33m.\u001b[0m\u001b[0mstrptime\u001b[0m\u001b[1;33m(\u001b[0m\u001b[0mtime_list\u001b[0m\u001b[1;33m[\u001b[0m\u001b[0mi\u001b[0m\u001b[1;33m]\u001b[0m\u001b[1;33m,\u001b[0m \u001b[1;34m'%m/%d/%Y %H:%M'\u001b[0m\u001b[1;33m)\u001b[0m\u001b[1;33m+\u001b[0m \u001b[0mdatetime\u001b[0m\u001b[1;33m.\u001b[0m\u001b[0mtimedelta\u001b[0m\u001b[1;33m(\u001b[0m\u001b[0mminutes\u001b[0m\u001b[1;33m=\u001b[0m\u001b[1;36m15\u001b[0m\u001b[1;33m)\u001b[0m\u001b[1;33m)\u001b[0m\u001b[1;33m\u001b[0m\u001b[1;33m\u001b[0m\u001b[0m\n\u001b[0;32m     43\u001b[0m     \u001b[1;32mfor\u001b[0m \u001b[0mj\u001b[0m \u001b[1;32min\u001b[0m \u001b[0mrange\u001b[0m\u001b[1;33m(\u001b[0m\u001b[1;36m12\u001b[0m\u001b[1;33m)\u001b[0m\u001b[1;33m:\u001b[0m\u001b[1;33m\u001b[0m\u001b[1;33m\u001b[0m\u001b[0m\n\u001b[1;32m---> 44\u001b[1;33m         \u001b[1;32mif\u001b[0m \u001b[1;33m(\u001b[0m\u001b[0mlater\u001b[0m\u001b[1;33m==\u001b[0m\u001b[0mdatetime\u001b[0m\u001b[1;33m.\u001b[0m\u001b[0mdatetime\u001b[0m\u001b[1;33m.\u001b[0m\u001b[0mstrptime\u001b[0m\u001b[1;33m(\u001b[0m\u001b[0mtime_list\u001b[0m\u001b[1;33m[\u001b[0m\u001b[0mi\u001b[0m\u001b[1;33m+\u001b[0m\u001b[1;36m1\u001b[0m\u001b[1;33m]\u001b[0m\u001b[1;33m,\u001b[0m \u001b[1;34m'%m/%d/%Y %H:%M'\u001b[0m\u001b[1;33m)\u001b[0m\u001b[1;33m)\u001b[0m\u001b[1;33m:\u001b[0m\u001b[1;33m\u001b[0m\u001b[1;33m\u001b[0m\u001b[0m\n\u001b[0m\u001b[0;32m     45\u001b[0m             \u001b[0mcorrect\u001b[0m\u001b[1;33m=\u001b[0m\u001b[1;32mTrue\u001b[0m\u001b[1;33m\u001b[0m\u001b[1;33m\u001b[0m\u001b[0m\n\u001b[0;32m     46\u001b[0m         \u001b[1;32melse\u001b[0m\u001b[1;33m:\u001b[0m\u001b[1;33m\u001b[0m\u001b[1;33m\u001b[0m\u001b[0m\n",
      "\u001b[1;31mTypeError\u001b[0m: strptime() argument 1 must be str, not float"
     ]
    }
   ],
   "source": [
    "time_list = df['Timestamp'].tolist()    \n",
    "def check_time(df):\n",
    "#Conduct verify_time function to all the timestamps\n",
    "    #correct=True\n",
    "    j=0\n",
    "    k=1\n",
    "    for i in range(len(time_list)-1):\n",
    "        if(i>0):\n",
    "            col_1_val=(df.loc[i+1,col_1]+df.loc[i-1,col_1])/2\n",
    "            col_2_val=(df.loc[i+1,col_2]+df.loc[i-1,col_2])/2\n",
    "            col_3_val=(df.loc[i+1,col_3]+df.loc[i-1,col_3])/2\n",
    "            col_4_val=(df.loc[i+1,col_4]+df.loc[i-1,col_4])/2\n",
    "        if (not verify_large_missing_time(i)):\n",
    "            print('OMG')\n",
    "            print(i)\n",
    "            line = pd.DataFrame({\"Timestamp\":(datetime.datetime.strptime(time_list[i], '%m/%d/%Y %H:%M')+ datetime.timedelta(minutes=15)).strftime('%m/%d/%Y %H:%M')},index=[i])\n",
    "            df=pd.concat([df.iloc[:i+j+k], line, df.iloc[i+j+k:]]).reset_index(drop=True)\n",
    "            j=j+1\n",
    "                \n",
    "            \n",
    "        elif (not verify_time(i)):\n",
    "            print(\"There is a false time at \"+time_list[i]+\" to \"+time_list[i+1])\n",
    "            #Create a new line with plus 15 minutes and data of the average of the upper cell data and lower cell data\n",
    "            line = pd.DataFrame({\"Timestamp\":(datetime.datetime.strptime(time_list[i], '%m/%d/%Y %H:%M')+ datetime.timedelta(minutes=15)).strftime('%m/%d/%Y %H:%M'),\n",
    "                    col_1:col_1_val,col_2:col_2_val ,col_3: col_3_val ,col_4: col_4_val},index=[i])\n",
    "            df=pd.concat([df.iloc[:i+j+k], line, df.iloc[i+j+k:]]).reset_index(drop=True)\n",
    "            k=k+1\n",
    "            #correct=False\n",
    "#Report false if anything is wrong; will be used in while loops\n",
    "    #df.to_csv(fileNameClean,sep=',')\n",
    "    return df\n",
    "def verify_time(i):\n",
    "#Verify if the time under timestamp matches with its lower cell\n",
    "    later=(datetime.datetime.strptime(time_list[i], '%m/%d/%Y %H:%M')+ datetime.timedelta(minutes=15))\n",
    "    if (later==datetime.datetime.strptime(time_list[i+1], '%m/%d/%Y %H:%M')):\n",
    "        return True\n",
    "    else:\n",
    "        return False\n",
    "def verify_large_missing_time(i):\n",
    "#Verify if the time under timestamp matches with its lower cell\n",
    "    correct=False\n",
    "    later=(datetime.datetime.strptime(time_list[i], '%m/%d/%Y %H:%M')+ datetime.timedelta(minutes=15))\n",
    "    for j in range(12):\n",
    "        if (later==datetime.datetime.strptime(time_list[i+1], '%m/%d/%Y %H:%M')):\n",
    "            correct=True\n",
    "        else:\n",
    "            later=later + datetime.timedelta(minutes=15)\n",
    "    return correct\n",
    "#verify_large_missing_time(5245)\n",
    "df1=check_time(df)\n",
    "#'%m/%d/%Y %H:%M'\n",
    "#'%Y-%m-%d %H:%M:%S'"
   ]
  },
  {
   "cell_type": "code",
   "execution_count": 19,
   "metadata": {},
   "outputs": [
    {
     "ename": "NameError",
     "evalue": "name 'df1' is not defined",
     "output_type": "error",
     "traceback": [
      "\u001b[1;31m---------------------------------------------------------------------------\u001b[0m",
      "\u001b[1;31mNameError\u001b[0m                                 Traceback (most recent call last)",
      "\u001b[1;32m<ipython-input-19-cafc0e7c3253>\u001b[0m in \u001b[0;36m<module>\u001b[1;34m\u001b[0m\n\u001b[0;32m      1\u001b[0m \u001b[1;32mfor\u001b[0m \u001b[0mi\u001b[0m \u001b[1;32min\u001b[0m \u001b[0mrange\u001b[0m\u001b[1;33m(\u001b[0m\u001b[1;36m3\u001b[0m\u001b[1;33m)\u001b[0m\u001b[1;33m:\u001b[0m\u001b[1;33m\u001b[0m\u001b[1;33m\u001b[0m\u001b[0m\n\u001b[1;32m----> 2\u001b[1;33m     \u001b[0mdf1\u001b[0m\u001b[1;33m=\u001b[0m\u001b[0mcheck_time\u001b[0m\u001b[1;33m(\u001b[0m\u001b[0mdf1\u001b[0m\u001b[1;33m)\u001b[0m\u001b[1;33m\u001b[0m\u001b[1;33m\u001b[0m\u001b[0m\n\u001b[0m",
      "\u001b[1;31mNameError\u001b[0m: name 'df1' is not defined"
     ]
    }
   ],
   "source": [
    "for i in range(3):\n",
    "    df1=check_time(df1)"
   ]
  },
  {
   "cell_type": "code",
   "execution_count": 160,
   "metadata": {},
   "outputs": [],
   "source": [
    "df1.to_csv(fileNameClean,sep=',')"
   ]
  },
  {
   "cell_type": "code",
   "execution_count": null,
   "metadata": {},
   "outputs": [],
   "source": [
    "##############################SCRATCH##############################"
   ]
  },
  {
   "cell_type": "code",
   "execution_count": 297,
   "metadata": {
    "scrolled": true
   },
   "outputs": [
    {
     "name": "stdout",
     "output_type": "stream",
     "text": [
      "6/30/2019 18:15\n"
     ]
    }
   ],
   "source": [
    "print(wrong_list[0])"
   ]
  },
  {
   "cell_type": "code",
   "execution_count": 298,
   "metadata": {},
   "outputs": [],
   "source": [
    "later=(datetime.datetime.strptime(wrong_list[0], '%m/%d/%Y %H:%M')+ dt.timedelta(minutes=15))\n",
    "before=(datetime.datetime.strptime(wrong_list[0], '%m/%d/%Y %H:%M')- dt.timedelta(minutes=15))"
   ]
  },
  {
   "cell_type": "code",
   "execution_count": 299,
   "metadata": {},
   "outputs": [
    {
     "name": "stdout",
     "output_type": "stream",
     "text": [
      "06/30/2019 18:30\n"
     ]
    }
   ],
   "source": [
    "later_str = later.strftime('%m/%d/%Y %H:%M')\n",
    "print(later_str)"
   ]
  },
  {
   "cell_type": "code",
   "execution_count": 317,
   "metadata": {
    "scrolled": false
   },
   "outputs": [
    {
     "name": "stdout",
     "output_type": "stream",
     "text": [
      "50.4\n"
     ]
    }
   ],
   "source": [
    "i=df.loc[8,'ArtStorageUnit SpaceRH 15_Min(%)']\n",
    "print(i)"
   ]
  },
  {
   "cell_type": "code",
   "execution_count": 302,
   "metadata": {},
   "outputs": [
    {
     "ename": "TypeError",
     "evalue": "can only concatenate str (not \"datetime.timedelta\") to str",
     "output_type": "error",
     "traceback": [
      "\u001b[1;31m---------------------------------------------------------------------------\u001b[0m",
      "\u001b[1;31mTypeError\u001b[0m                                 Traceback (most recent call last)",
      "\u001b[1;32m<ipython-input-302-67fbf0b734fd>\u001b[0m in \u001b[0;36m<module>\u001b[1;34m\u001b[0m\n\u001b[1;32m----> 1\u001b[1;33m \u001b[0mwrongdf\u001b[0m\u001b[1;33m.\u001b[0m\u001b[0mloc\u001b[0m\u001b[1;33m[\u001b[0m\u001b[1;34m\"ArtStorageUnit SpaceRH 15_Min(%)\"\u001b[0m\u001b[1;33m,\u001b[0m\u001b[0mwrong_list\u001b[0m\u001b[1;33m[\u001b[0m\u001b[1;36m0\u001b[0m\u001b[1;33m]\u001b[0m\u001b[1;33m]\u001b[0m \u001b[1;33m=\u001b[0m \u001b[0mdf\u001b[0m\u001b[1;33m.\u001b[0m\u001b[0mloc\u001b[0m\u001b[1;33m[\u001b[0m\u001b[1;34m\"ArtStorageUnit SpaceRH 15_Min(%)\"\u001b[0m\u001b[1;33m,\u001b[0m\u001b[0mwrong_list\u001b[0m\u001b[1;33m[\u001b[0m\u001b[1;36m0\u001b[0m\u001b[1;33m]\u001b[0m\u001b[1;33m+\u001b[0m \u001b[0mdt\u001b[0m\u001b[1;33m.\u001b[0m\u001b[0mtimedelta\u001b[0m\u001b[1;33m(\u001b[0m\u001b[0mminutes\u001b[0m\u001b[1;33m=\u001b[0m\u001b[1;36m15\u001b[0m\u001b[1;33m)\u001b[0m\u001b[1;33m]\u001b[0m\u001b[1;33m\u001b[0m\u001b[1;33m\u001b[0m\u001b[0m\n\u001b[0m",
      "\u001b[1;31mTypeError\u001b[0m: can only concatenate str (not \"datetime.timedelta\") to str"
     ]
    }
   ],
   "source": [
    "wrongdf.loc[\"ArtStorageUnit SpaceRH 15_Min(%)\",wrong_list[0]] = df.loc[\"ArtStorageUnit SpaceRH 15_Min(%)\",wrong_list[0]+ dt.timedelta(minutes=15)]"
   ]
  },
  {
   "cell_type": "code",
   "execution_count": null,
   "metadata": {},
   "outputs": [],
   "source": []
  },
  {
   "cell_type": "code",
   "execution_count": null,
   "metadata": {},
   "outputs": [],
   "source": []
  },
  {
   "cell_type": "code",
   "execution_count": null,
   "metadata": {},
   "outputs": [],
   "source": []
  },
  {
   "cell_type": "code",
   "execution_count": 327,
   "metadata": {},
   "outputs": [],
   "source": [
    "wrongdf = df[df['ArtStorageUnit SpaceRH 15_Min(%)'] == 50.4]"
   ]
  }
 ],
 "metadata": {
  "kernelspec": {
   "display_name": "Python 3",
   "language": "python",
   "name": "python3"
  },
  "language_info": {
   "codemirror_mode": {
    "name": "ipython",
    "version": 3
   },
   "file_extension": ".py",
   "mimetype": "text/x-python",
   "name": "python",
   "nbconvert_exporter": "python",
   "pygments_lexer": "ipython3",
   "version": "3.7.4"
  }
 },
 "nbformat": 4,
 "nbformat_minor": 2
}
